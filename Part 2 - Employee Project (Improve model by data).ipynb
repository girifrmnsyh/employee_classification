{
 "cells": [
  {
   "cell_type": "code",
   "execution_count": 1,
   "id": "deb72cf3",
   "metadata": {},
   "outputs": [],
   "source": [
    "# import library\n",
    "import pandas as pd\n",
    "import numpy as np\n",
    "import seaborn as sns\n",
    "import matplotlib.pyplot as plt\n",
    "\n",
    "import warnings\n",
    "warnings.filterwarnings('ignore')"
   ]
  },
  {
   "cell_type": "code",
   "execution_count": 2,
   "id": "bb2acf34",
   "metadata": {},
   "outputs": [
    {
     "data": {
      "text/html": [
       "<div>\n",
       "<style scoped>\n",
       "    .dataframe tbody tr th:only-of-type {\n",
       "        vertical-align: middle;\n",
       "    }\n",
       "\n",
       "    .dataframe tbody tr th {\n",
       "        vertical-align: top;\n",
       "    }\n",
       "\n",
       "    .dataframe thead th {\n",
       "        text-align: right;\n",
       "    }\n",
       "</style>\n",
       "<table border=\"1\" class=\"dataframe\">\n",
       "  <thead>\n",
       "    <tr style=\"text-align: right;\">\n",
       "      <th></th>\n",
       "      <th>Education</th>\n",
       "      <th>JoiningYear</th>\n",
       "      <th>City</th>\n",
       "      <th>PaymentTier</th>\n",
       "      <th>Age</th>\n",
       "      <th>Gender</th>\n",
       "      <th>EverBenched</th>\n",
       "      <th>ExperienceInCurrentDomain</th>\n",
       "      <th>LeaveOrNot</th>\n",
       "    </tr>\n",
       "  </thead>\n",
       "  <tbody>\n",
       "    <tr>\n",
       "      <th>0</th>\n",
       "      <td>Bachelors</td>\n",
       "      <td>2017</td>\n",
       "      <td>Bangalore</td>\n",
       "      <td>3</td>\n",
       "      <td>34</td>\n",
       "      <td>Male</td>\n",
       "      <td>No</td>\n",
       "      <td>0</td>\n",
       "      <td>0</td>\n",
       "    </tr>\n",
       "    <tr>\n",
       "      <th>1</th>\n",
       "      <td>Bachelors</td>\n",
       "      <td>2013</td>\n",
       "      <td>Pune</td>\n",
       "      <td>1</td>\n",
       "      <td>28</td>\n",
       "      <td>Female</td>\n",
       "      <td>No</td>\n",
       "      <td>3</td>\n",
       "      <td>1</td>\n",
       "    </tr>\n",
       "    <tr>\n",
       "      <th>2</th>\n",
       "      <td>Bachelors</td>\n",
       "      <td>2014</td>\n",
       "      <td>New Delhi</td>\n",
       "      <td>3</td>\n",
       "      <td>38</td>\n",
       "      <td>Female</td>\n",
       "      <td>No</td>\n",
       "      <td>2</td>\n",
       "      <td>0</td>\n",
       "    </tr>\n",
       "    <tr>\n",
       "      <th>3</th>\n",
       "      <td>Masters</td>\n",
       "      <td>2016</td>\n",
       "      <td>Bangalore</td>\n",
       "      <td>3</td>\n",
       "      <td>27</td>\n",
       "      <td>Male</td>\n",
       "      <td>No</td>\n",
       "      <td>5</td>\n",
       "      <td>1</td>\n",
       "    </tr>\n",
       "    <tr>\n",
       "      <th>4</th>\n",
       "      <td>Masters</td>\n",
       "      <td>2017</td>\n",
       "      <td>Pune</td>\n",
       "      <td>3</td>\n",
       "      <td>24</td>\n",
       "      <td>Male</td>\n",
       "      <td>Yes</td>\n",
       "      <td>2</td>\n",
       "      <td>1</td>\n",
       "    </tr>\n",
       "  </tbody>\n",
       "</table>\n",
       "</div>"
      ],
      "text/plain": [
       "   Education  JoiningYear       City  PaymentTier  Age  Gender EverBenched  \\\n",
       "0  Bachelors         2017  Bangalore            3   34    Male          No   \n",
       "1  Bachelors         2013       Pune            1   28  Female          No   \n",
       "2  Bachelors         2014  New Delhi            3   38  Female          No   \n",
       "3    Masters         2016  Bangalore            3   27    Male          No   \n",
       "4    Masters         2017       Pune            3   24    Male         Yes   \n",
       "\n",
       "   ExperienceInCurrentDomain  LeaveOrNot  \n",
       "0                          0           0  \n",
       "1                          3           1  \n",
       "2                          2           0  \n",
       "3                          5           1  \n",
       "4                          2           1  "
      ]
     },
     "execution_count": 2,
     "metadata": {},
     "output_type": "execute_result"
    }
   ],
   "source": [
    "data_employee = pd.read_csv('Employee.csv')\n",
    "data_employee.head()"
   ]
  },
  {
   "cell_type": "markdown",
   "id": "e0f931d6",
   "metadata": {},
   "source": [
    "# Data Splitting"
   ]
  },
  {
   "cell_type": "code",
   "execution_count": 3,
   "id": "d58e7c0a",
   "metadata": {},
   "outputs": [],
   "source": [
    "# prepare feature (X) and label (y) \n",
    "X = data_employee.drop('LeaveOrNot', axis=1)\n",
    "y = data_employee['LeaveOrNot']"
   ]
  },
  {
   "cell_type": "code",
   "execution_count": 4,
   "id": "dcc914f8",
   "metadata": {},
   "outputs": [],
   "source": [
    "# splitting data\n",
    "from sklearn.model_selection import train_test_split\n",
    "\n",
    "X_train, X_test, y_train, y_test = train_test_split(X, y,\n",
    "                                                   test_size=0.25,\n",
    "                                                   random_state=42,\n",
    "                                                   stratify=y)"
   ]
  },
  {
   "cell_type": "code",
   "execution_count": 5,
   "id": "2723118a",
   "metadata": {},
   "outputs": [
    {
     "data": {
      "text/plain": [
       "((3489, 8), (3489,))"
      ]
     },
     "execution_count": 5,
     "metadata": {},
     "output_type": "execute_result"
    }
   ],
   "source": [
    "# check volume data\n",
    "X_train.shape, y_train.shape"
   ]
  },
  {
   "cell_type": "markdown",
   "id": "7ea25ee8",
   "metadata": {},
   "source": [
    "# EDA"
   ]
  },
  {
   "cell_type": "code",
   "execution_count": 6,
   "id": "181cf1e2",
   "metadata": {},
   "outputs": [
    {
     "data": {
      "text/html": [
       "<div>\n",
       "<style scoped>\n",
       "    .dataframe tbody tr th:only-of-type {\n",
       "        vertical-align: middle;\n",
       "    }\n",
       "\n",
       "    .dataframe tbody tr th {\n",
       "        vertical-align: top;\n",
       "    }\n",
       "\n",
       "    .dataframe thead th {\n",
       "        text-align: right;\n",
       "    }\n",
       "</style>\n",
       "<table border=\"1\" class=\"dataframe\">\n",
       "  <thead>\n",
       "    <tr style=\"text-align: right;\">\n",
       "      <th></th>\n",
       "      <th>Education</th>\n",
       "      <th>JoiningYear</th>\n",
       "      <th>City</th>\n",
       "      <th>PaymentTier</th>\n",
       "      <th>Age</th>\n",
       "      <th>Gender</th>\n",
       "      <th>EverBenched</th>\n",
       "      <th>ExperienceInCurrentDomain</th>\n",
       "      <th>LeaveOrNot</th>\n",
       "    </tr>\n",
       "  </thead>\n",
       "  <tbody>\n",
       "    <tr>\n",
       "      <th>2250</th>\n",
       "      <td>Bachelors</td>\n",
       "      <td>2012</td>\n",
       "      <td>New Delhi</td>\n",
       "      <td>3</td>\n",
       "      <td>30</td>\n",
       "      <td>Male</td>\n",
       "      <td>No</td>\n",
       "      <td>1</td>\n",
       "      <td>0</td>\n",
       "    </tr>\n",
       "    <tr>\n",
       "      <th>425</th>\n",
       "      <td>PHD</td>\n",
       "      <td>2018</td>\n",
       "      <td>New Delhi</td>\n",
       "      <td>3</td>\n",
       "      <td>25</td>\n",
       "      <td>Male</td>\n",
       "      <td>No</td>\n",
       "      <td>3</td>\n",
       "      <td>1</td>\n",
       "    </tr>\n",
       "    <tr>\n",
       "      <th>4182</th>\n",
       "      <td>Masters</td>\n",
       "      <td>2017</td>\n",
       "      <td>Pune</td>\n",
       "      <td>2</td>\n",
       "      <td>24</td>\n",
       "      <td>Male</td>\n",
       "      <td>No</td>\n",
       "      <td>2</td>\n",
       "      <td>0</td>\n",
       "    </tr>\n",
       "    <tr>\n",
       "      <th>1105</th>\n",
       "      <td>Bachelors</td>\n",
       "      <td>2018</td>\n",
       "      <td>Bangalore</td>\n",
       "      <td>3</td>\n",
       "      <td>25</td>\n",
       "      <td>Female</td>\n",
       "      <td>Yes</td>\n",
       "      <td>3</td>\n",
       "      <td>1</td>\n",
       "    </tr>\n",
       "    <tr>\n",
       "      <th>3033</th>\n",
       "      <td>Bachelors</td>\n",
       "      <td>2017</td>\n",
       "      <td>New Delhi</td>\n",
       "      <td>2</td>\n",
       "      <td>41</td>\n",
       "      <td>Female</td>\n",
       "      <td>No</td>\n",
       "      <td>3</td>\n",
       "      <td>0</td>\n",
       "    </tr>\n",
       "    <tr>\n",
       "      <th>...</th>\n",
       "      <td>...</td>\n",
       "      <td>...</td>\n",
       "      <td>...</td>\n",
       "      <td>...</td>\n",
       "      <td>...</td>\n",
       "      <td>...</td>\n",
       "      <td>...</td>\n",
       "      <td>...</td>\n",
       "      <td>...</td>\n",
       "    </tr>\n",
       "    <tr>\n",
       "      <th>4648</th>\n",
       "      <td>Bachelors</td>\n",
       "      <td>2013</td>\n",
       "      <td>Bangalore</td>\n",
       "      <td>3</td>\n",
       "      <td>26</td>\n",
       "      <td>Female</td>\n",
       "      <td>No</td>\n",
       "      <td>4</td>\n",
       "      <td>0</td>\n",
       "    </tr>\n",
       "    <tr>\n",
       "      <th>4431</th>\n",
       "      <td>Bachelors</td>\n",
       "      <td>2016</td>\n",
       "      <td>Pune</td>\n",
       "      <td>2</td>\n",
       "      <td>29</td>\n",
       "      <td>Female</td>\n",
       "      <td>No</td>\n",
       "      <td>4</td>\n",
       "      <td>1</td>\n",
       "    </tr>\n",
       "    <tr>\n",
       "      <th>1847</th>\n",
       "      <td>Bachelors</td>\n",
       "      <td>2016</td>\n",
       "      <td>Bangalore</td>\n",
       "      <td>3</td>\n",
       "      <td>26</td>\n",
       "      <td>Male</td>\n",
       "      <td>Yes</td>\n",
       "      <td>4</td>\n",
       "      <td>0</td>\n",
       "    </tr>\n",
       "    <tr>\n",
       "      <th>2148</th>\n",
       "      <td>Bachelors</td>\n",
       "      <td>2014</td>\n",
       "      <td>Bangalore</td>\n",
       "      <td>3</td>\n",
       "      <td>26</td>\n",
       "      <td>Male</td>\n",
       "      <td>No</td>\n",
       "      <td>4</td>\n",
       "      <td>0</td>\n",
       "    </tr>\n",
       "    <tr>\n",
       "      <th>4150</th>\n",
       "      <td>Bachelors</td>\n",
       "      <td>2015</td>\n",
       "      <td>Bangalore</td>\n",
       "      <td>3</td>\n",
       "      <td>26</td>\n",
       "      <td>Male</td>\n",
       "      <td>No</td>\n",
       "      <td>4</td>\n",
       "      <td>0</td>\n",
       "    </tr>\n",
       "  </tbody>\n",
       "</table>\n",
       "<p>3489 rows × 9 columns</p>\n",
       "</div>"
      ],
      "text/plain": [
       "      Education  JoiningYear       City  PaymentTier  Age  Gender EverBenched  \\\n",
       "2250  Bachelors         2012  New Delhi            3   30    Male          No   \n",
       "425         PHD         2018  New Delhi            3   25    Male          No   \n",
       "4182    Masters         2017       Pune            2   24    Male          No   \n",
       "1105  Bachelors         2018  Bangalore            3   25  Female         Yes   \n",
       "3033  Bachelors         2017  New Delhi            2   41  Female          No   \n",
       "...         ...          ...        ...          ...  ...     ...         ...   \n",
       "4648  Bachelors         2013  Bangalore            3   26  Female          No   \n",
       "4431  Bachelors         2016       Pune            2   29  Female          No   \n",
       "1847  Bachelors         2016  Bangalore            3   26    Male         Yes   \n",
       "2148  Bachelors         2014  Bangalore            3   26    Male          No   \n",
       "4150  Bachelors         2015  Bangalore            3   26    Male          No   \n",
       "\n",
       "      ExperienceInCurrentDomain  LeaveOrNot  \n",
       "2250                          1           0  \n",
       "425                           3           1  \n",
       "4182                          2           0  \n",
       "1105                          3           1  \n",
       "3033                          3           0  \n",
       "...                         ...         ...  \n",
       "4648                          4           0  \n",
       "4431                          4           1  \n",
       "1847                          4           0  \n",
       "2148                          4           0  \n",
       "4150                          4           0  \n",
       "\n",
       "[3489 rows x 9 columns]"
      ]
     },
     "execution_count": 6,
     "metadata": {},
     "output_type": "execute_result"
    }
   ],
   "source": [
    "# merge data train for EDA\n",
    "data_vis = pd.merge(left=X_train, right=y_train, left_index=True, right_index=True)\n",
    "data_vis"
   ]
  },
  {
   "cell_type": "code",
   "execution_count": 7,
   "id": "8d77fa32",
   "metadata": {},
   "outputs": [
    {
     "data": {
      "text/plain": [
       "Education                    0.0\n",
       "JoiningYear                  0.0\n",
       "City                         0.0\n",
       "PaymentTier                  0.0\n",
       "Age                          0.0\n",
       "Gender                       0.0\n",
       "EverBenched                  0.0\n",
       "ExperienceInCurrentDomain    0.0\n",
       "LeaveOrNot                   0.0\n",
       "dtype: float64"
      ]
     },
     "execution_count": 7,
     "metadata": {},
     "output_type": "execute_result"
    }
   ],
   "source": [
    "# missing value check\n",
    "data_vis.isna().mean()"
   ]
  },
  {
   "cell_type": "code",
   "execution_count": 8,
   "id": "6b2ecf59",
   "metadata": {},
   "outputs": [
    {
     "data": {
      "text/plain": [
       "1274"
      ]
     },
     "execution_count": 8,
     "metadata": {},
     "output_type": "execute_result"
    }
   ],
   "source": [
    "# duplicate rows check\n",
    "data_vis.duplicated().sum()"
   ]
  },
  {
   "cell_type": "code",
   "execution_count": 9,
   "id": "54d2215e",
   "metadata": {},
   "outputs": [],
   "source": [
    "# drop duplcate rows\n",
    "data_vis.drop_duplicates(inplace=True)"
   ]
  },
  {
   "cell_type": "code",
   "execution_count": 10,
   "id": "e211f0f9",
   "metadata": {},
   "outputs": [
    {
     "data": {
      "text/plain": [
       "<Axes: xlabel='LeaveOrNot', ylabel='count'>"
      ]
     },
     "execution_count": 10,
     "metadata": {},
     "output_type": "execute_result"
    },
    {
     "data": {
      "image/png": "[encoded data removed]",
      "text/plain": [
       "<Figure size 640x480 with 1 Axes>"
      ]
     },
     "metadata": {},
     "output_type": "display_data"
    }
   ],
   "source": [
    "# proportion label train\n",
    "sns.countplot(x='LeaveOrNot', data=data_vis)"
   ]
  },
  {
   "cell_type": "code",
   "execution_count": 11,
   "id": "96b1549f",
   "metadata": {},
   "outputs": [
    {
     "name": "stdout",
     "output_type": "stream",
     "text": [
      "Education :  3\n",
      "\n",
      "JoiningYear :  7\n",
      "\n",
      "City :  3\n",
      "\n",
      "PaymentTier :  3\n",
      "\n",
      "Age :  20\n",
      "\n",
      "Gender :  2\n",
      "\n",
      "EverBenched :  2\n",
      "\n"
     ]
    }
   ],
   "source": [
    "# unique value each colum\n",
    "for c in X_train.columns[:-1]:\n",
    "    nv = X_train[c].nunique()\n",
    "    print(f'{c} : ', nv)\n",
    "    print()"
   ]
  },
  {
   "cell_type": "code",
   "execution_count": 12,
   "id": "fe22ba94",
   "metadata": {},
   "outputs": [],
   "source": [
    "# sort out\n",
    "categori = ['Education', 'City', 'PaymentTier', 'Gender', 'EverBenched']\n",
    "numeric = ['JoiningYear', 'Age', 'ExperienceInCurrentDomain']"
   ]
  },
  {
   "cell_type": "code",
   "execution_count": 13,
   "id": "2cd8ceeb",
   "metadata": {
    "scrolled": false
   },
   "outputs": [
    {
     "data": {
      "image/png": "[encoded data removed]",
      "text/plain": [
       "<Figure size 1000x800 with 5 Axes>"
      ]
     },
     "metadata": {},
     "output_type": "display_data"
    }
   ],
   "source": [
    "# visualization data categorical\n",
    "\n",
    "# change labels\n",
    "for_vis = data_vis.copy(deep=True)\n",
    "for_vis['LeaveOrNot'] = for_vis['LeaveOrNot'].map(lambda x: 'Leave' if x == 1 else 'Not')\n",
    "\n",
    "# plotting\n",
    "fig, ax = plt.subplots(nrows=2, ncols=3, figsize=(10,8))\n",
    "ax = ax.flatten()\n",
    "\n",
    "for a,c in zip(ax,categori):\n",
    "    sns.countplot(x=c, data=for_vis, hue='LeaveOrNot', ax=a)\n",
    "    \n",
    "ax[5].remove()\n",
    "plt.tight_layout()\n",
    "plt.show()"
   ]
  },
  {
   "cell_type": "code",
   "execution_count": 14,
   "id": "3e543eda",
   "metadata": {},
   "outputs": [
    {
     "name": "stdout",
     "output_type": "stream",
     "text": [
      "LeaveOrNot                   1.000000\n",
      "JoiningYear                  0.170373\n",
      "ExperienceInCurrentDomain    0.009290\n",
      "Age                         -0.121712\n",
      "PaymentTier                 -0.131396\n",
      "Name: LeaveOrNot, dtype: float64\n"
     ]
    }
   ],
   "source": [
    "# numeric\n",
    "correlation = data_vis.select_dtypes(include='number').corr()['LeaveOrNot'].sort_values(ascending=False)\n",
    "print(correlation)"
   ]
  },
  {
   "cell_type": "code",
   "execution_count": 15,
   "id": "127f8f79",
   "metadata": {},
   "outputs": [
    {
     "data": {
      "image/png": "[encoded data removed]",
      "text/plain": [
       "<Figure size 640x480 with 1 Axes>"
      ]
     },
     "metadata": {},
     "output_type": "display_data"
    }
   ],
   "source": [
    "# visualisasi joining year\n",
    "plt.figure()\n",
    "sns.histplot(x='JoiningYear', data=data_vis[data_vis['LeaveOrNot']==0],color='b', label='Not')\n",
    "sns.histplot(x='JoiningYear', data=data_vis[data_vis['LeaveOrNot']==1], color='orange', label='Leave')\n",
    "plt.legend()\n",
    "plt.show()"
   ]
  },
  {
   "cell_type": "code",
   "execution_count": 16,
   "id": "02783d1c",
   "metadata": {},
   "outputs": [
    {
     "data": {
      "image/png": "[encoded data removed]",
      "text/plain": [
       "<Figure size 640x480 with 1 Axes>"
      ]
     },
     "metadata": {},
     "output_type": "display_data"
    }
   ],
   "source": [
    "# visualisasi Age\n",
    "plt.figure()\n",
    "sns.histplot(x='Age', data=data_vis[data_vis['LeaveOrNot']==0],color='b', label='Not')\n",
    "sns.histplot(x='Age', data=data_vis[data_vis['LeaveOrNot']==1], color='orange', label='Leave')\n",
    "plt.legend()\n",
    "plt.show()"
   ]
  },
  {
   "cell_type": "code",
   "execution_count": 17,
   "id": "372a142a",
   "metadata": {},
   "outputs": [
    {
     "data": {
      "text/plain": [
       "LeaveOrNot\n",
       "1    0.989848\n",
       "0    0.010152\n",
       "Name: proportion, dtype: float64"
      ]
     },
     "execution_count": 17,
     "metadata": {},
     "output_type": "execute_result"
    }
   ],
   "source": [
    "data_vis[data_vis['JoiningYear']==2018]['LeaveOrNot'].value_counts(normalize=True)"
   ]
  },
  {
   "cell_type": "markdown",
   "id": "bc4dd278",
   "metadata": {},
   "source": [
    "### join in 2018 is very influental for prediction\n",
    "#### maybe this insigh can usedull for prediction"
   ]
  },
  {
   "cell_type": "code",
   "execution_count": 18,
   "id": "96003886",
   "metadata": {},
   "outputs": [
    {
     "data": {
      "text/plain": [
       "LeaveOrNot\n",
       "1    0.514085\n",
       "0    0.485915\n",
       "Name: proportion, dtype: float64"
      ]
     },
     "execution_count": 18,
     "metadata": {},
     "output_type": "execute_result"
    }
   ],
   "source": [
    "data_vis[(data_vis['Age']>23) & (data_vis['Age']<26)]['LeaveOrNot'].value_counts(normalize=True)"
   ]
  },
  {
   "cell_type": "markdown",
   "id": "38a4dfe4",
   "metadata": {},
   "source": [
    "### and i have idea for bining Age colum for modelling\n",
    "#### maybe with it can be improve my model better than previously"
   ]
  },
  {
   "cell_type": "markdown",
   "id": "b210c576",
   "metadata": {},
   "source": [
    "# Feature Engineering"
   ]
  },
  {
   "cell_type": "code",
   "execution_count": 19,
   "id": "61b0e21b",
   "metadata": {
    "scrolled": true
   },
   "outputs": [
    {
     "data": {
      "text/plain": [
       "((2215, 8), (2215,))"
      ]
     },
     "execution_count": 19,
     "metadata": {},
     "output_type": "execute_result"
    }
   ],
   "source": [
    "# split feature and labels\n",
    "X_train = data_vis.drop('LeaveOrNot', axis=1)\n",
    "y_train = data_vis['LeaveOrNot']\n",
    "X_train.shape, y_train.shape"
   ]
  },
  {
   "cell_type": "code",
   "execution_count": 20,
   "id": "32735925",
   "metadata": {},
   "outputs": [],
   "source": [
    "# import library for pipline\n",
    "from sklearn.impute import SimpleImputer\n",
    "from sklearn.compose import ColumnTransformer\n",
    "from sklearn.preprocessing import FunctionTransformer\n",
    "from sklearn.pipeline import Pipeline"
   ]
  },
  {
   "cell_type": "code",
   "execution_count": 21,
   "id": "c9dafa5c",
   "metadata": {},
   "outputs": [
    {
     "data": {
      "text/html": [
       "<div>\n",
       "<style scoped>\n",
       "    .dataframe tbody tr th:only-of-type {\n",
       "        vertical-align: middle;\n",
       "    }\n",
       "\n",
       "    .dataframe tbody tr th {\n",
       "        vertical-align: top;\n",
       "    }\n",
       "\n",
       "    .dataframe thead th {\n",
       "        text-align: right;\n",
       "    }\n",
       "</style>\n",
       "<table border=\"1\" class=\"dataframe\">\n",
       "  <thead>\n",
       "    <tr style=\"text-align: right;\">\n",
       "      <th></th>\n",
       "      <th>Education</th>\n",
       "      <th>JoiningYear</th>\n",
       "      <th>City</th>\n",
       "      <th>PaymentTier</th>\n",
       "      <th>Age</th>\n",
       "      <th>Gender</th>\n",
       "      <th>EverBenched</th>\n",
       "      <th>ExperienceInCurrentDomain</th>\n",
       "    </tr>\n",
       "  </thead>\n",
       "  <tbody>\n",
       "    <tr>\n",
       "      <th>2250</th>\n",
       "      <td>Bachelors</td>\n",
       "      <td>2012</td>\n",
       "      <td>New Delhi</td>\n",
       "      <td>3</td>\n",
       "      <td>30</td>\n",
       "      <td>Male</td>\n",
       "      <td>No</td>\n",
       "      <td>1</td>\n",
       "    </tr>\n",
       "    <tr>\n",
       "      <th>425</th>\n",
       "      <td>PHD</td>\n",
       "      <td>2018</td>\n",
       "      <td>New Delhi</td>\n",
       "      <td>3</td>\n",
       "      <td>25</td>\n",
       "      <td>Male</td>\n",
       "      <td>No</td>\n",
       "      <td>3</td>\n",
       "    </tr>\n",
       "    <tr>\n",
       "      <th>4182</th>\n",
       "      <td>Masters</td>\n",
       "      <td>2017</td>\n",
       "      <td>Pune</td>\n",
       "      <td>2</td>\n",
       "      <td>24</td>\n",
       "      <td>Male</td>\n",
       "      <td>No</td>\n",
       "      <td>2</td>\n",
       "    </tr>\n",
       "    <tr>\n",
       "      <th>1105</th>\n",
       "      <td>Bachelors</td>\n",
       "      <td>2018</td>\n",
       "      <td>Bangalore</td>\n",
       "      <td>3</td>\n",
       "      <td>25</td>\n",
       "      <td>Female</td>\n",
       "      <td>Yes</td>\n",
       "      <td>3</td>\n",
       "    </tr>\n",
       "    <tr>\n",
       "      <th>3033</th>\n",
       "      <td>Bachelors</td>\n",
       "      <td>2017</td>\n",
       "      <td>New Delhi</td>\n",
       "      <td>2</td>\n",
       "      <td>41</td>\n",
       "      <td>Female</td>\n",
       "      <td>No</td>\n",
       "      <td>3</td>\n",
       "    </tr>\n",
       "    <tr>\n",
       "      <th>...</th>\n",
       "      <td>...</td>\n",
       "      <td>...</td>\n",
       "      <td>...</td>\n",
       "      <td>...</td>\n",
       "      <td>...</td>\n",
       "      <td>...</td>\n",
       "      <td>...</td>\n",
       "      <td>...</td>\n",
       "    </tr>\n",
       "    <tr>\n",
       "      <th>3843</th>\n",
       "      <td>Bachelors</td>\n",
       "      <td>2016</td>\n",
       "      <td>Pune</td>\n",
       "      <td>3</td>\n",
       "      <td>36</td>\n",
       "      <td>Male</td>\n",
       "      <td>No</td>\n",
       "      <td>0</td>\n",
       "    </tr>\n",
       "    <tr>\n",
       "      <th>2475</th>\n",
       "      <td>Bachelors</td>\n",
       "      <td>2014</td>\n",
       "      <td>Bangalore</td>\n",
       "      <td>1</td>\n",
       "      <td>28</td>\n",
       "      <td>Male</td>\n",
       "      <td>No</td>\n",
       "      <td>1</td>\n",
       "    </tr>\n",
       "    <tr>\n",
       "      <th>3676</th>\n",
       "      <td>Bachelors</td>\n",
       "      <td>2012</td>\n",
       "      <td>Pune</td>\n",
       "      <td>3</td>\n",
       "      <td>31</td>\n",
       "      <td>Male</td>\n",
       "      <td>No</td>\n",
       "      <td>3</td>\n",
       "    </tr>\n",
       "    <tr>\n",
       "      <th>3824</th>\n",
       "      <td>Bachelors</td>\n",
       "      <td>2016</td>\n",
       "      <td>New Delhi</td>\n",
       "      <td>3</td>\n",
       "      <td>37</td>\n",
       "      <td>Male</td>\n",
       "      <td>No</td>\n",
       "      <td>3</td>\n",
       "    </tr>\n",
       "    <tr>\n",
       "      <th>4431</th>\n",
       "      <td>Bachelors</td>\n",
       "      <td>2016</td>\n",
       "      <td>Pune</td>\n",
       "      <td>2</td>\n",
       "      <td>29</td>\n",
       "      <td>Female</td>\n",
       "      <td>No</td>\n",
       "      <td>4</td>\n",
       "    </tr>\n",
       "  </tbody>\n",
       "</table>\n",
       "<p>2215 rows × 8 columns</p>\n",
       "</div>"
      ],
      "text/plain": [
       "      Education  JoiningYear       City  PaymentTier  Age  Gender EverBenched  \\\n",
       "2250  Bachelors         2012  New Delhi            3   30    Male          No   \n",
       "425         PHD         2018  New Delhi            3   25    Male          No   \n",
       "4182    Masters         2017       Pune            2   24    Male          No   \n",
       "1105  Bachelors         2018  Bangalore            3   25  Female         Yes   \n",
       "3033  Bachelors         2017  New Delhi            2   41  Female          No   \n",
       "...         ...          ...        ...          ...  ...     ...         ...   \n",
       "3843  Bachelors         2016       Pune            3   36    Male          No   \n",
       "2475  Bachelors         2014  Bangalore            1   28    Male          No   \n",
       "3676  Bachelors         2012       Pune            3   31    Male          No   \n",
       "3824  Bachelors         2016  New Delhi            3   37    Male          No   \n",
       "4431  Bachelors         2016       Pune            2   29  Female          No   \n",
       "\n",
       "      ExperienceInCurrentDomain  \n",
       "2250                          1  \n",
       "425                           3  \n",
       "4182                          2  \n",
       "1105                          3  \n",
       "3033                          3  \n",
       "...                         ...  \n",
       "3843                          0  \n",
       "2475                          1  \n",
       "3676                          3  \n",
       "3824                          3  \n",
       "4431                          4  \n",
       "\n",
       "[2215 rows x 8 columns]"
      ]
     },
     "execution_count": 21,
     "metadata": {},
     "output_type": "execute_result"
    }
   ],
   "source": [
    "X_train"
   ]
  },
  {
   "cell_type": "code",
   "execution_count": 22,
   "id": "de8ff099",
   "metadata": {},
   "outputs": [],
   "source": [
    "# step 1 (impute data)\n",
    "\n",
    "# convert to dataframe\n",
    "def ToDataFrame(D):\n",
    "    df = pd.DataFrame(D, columns=['JoiningYear', 'Age', 'ExperienceInCurrentDomain', \n",
    "                                  'Education', 'City', 'PaymentTier', 'Gender', 'EverBenched'])\n",
    "    return df\n",
    "\n",
    "# impute data\n",
    "impute  = ColumnTransformer([\n",
    "    ('imp_mean', SimpleImputer(strategy='mean'), numeric),\n",
    "    ('imp_mode', SimpleImputer(strategy='most_frequent'), categori)\n",
    "])\n",
    "\n",
    "# make pipeline for step 1\n",
    "step1 = Pipeline([\n",
    "    ('imp', impute),\n",
    "    ('to_df', FunctionTransformer(ToDataFrame))\n",
    "])"
   ]
  },
  {
   "cell_type": "code",
   "execution_count": 23,
   "id": "498aa61a",
   "metadata": {},
   "outputs": [],
   "source": [
    "# step 2 (bining and adding data)\n",
    "\n",
    "# make function to adding data who join in 2018\n",
    "def JoinIn2018(DATA):\n",
    "    # make blank list for new_values\n",
    "    D = DATA.copy(deep=True)\n",
    "    new_values = []\n",
    "    \n",
    "    # looping data for filltering\n",
    "    for d in D['JoiningYear']:\n",
    "        if d == 2018:\n",
    "            new_values.append(1)\n",
    "        else:\n",
    "            new_values.append(0)\n",
    "    \n",
    "    # adding to dataframe\n",
    "    col_index = D.columns.tolist().index('JoiningYear')+1\n",
    "    D.insert(col_index, 'JoinIn2018', new_values)\n",
    "    return D\n",
    "\n",
    "# make function to bining data age\n",
    "def BiningAge(D):\n",
    "    bining_age = pd.cut(D['Age'],\n",
    "                        bins=[0, 27, 35, 45],\n",
    "                        labels=[1,2,3])\n",
    "    col_index = D.columns.tolist().index('Age')+1\n",
    "    D.insert(col_index, 'BiningAge', bining_age)\n",
    "    return D\n",
    "\n",
    "# make Pipeline for step 2\n",
    "step2 = Pipeline([\n",
    "    ('adding', FunctionTransformer(JoinIn2018)),\n",
    "    ('bining', FunctionTransformer(BiningAge))\n",
    "])"
   ]
  },
  {
   "cell_type": "code",
   "execution_count": 24,
   "id": "c4aed79a",
   "metadata": {},
   "outputs": [],
   "source": [
    "# step 3 (convert object to numeric / encoding)\n",
    "\n",
    "# import library (encoder)\n",
    "from sklearn.preprocessing import OrdinalEncoder, OneHotEncoder\n",
    "\n",
    "# make function to encode Education by order\n",
    "def EncodeEducation(D):\n",
    "    # make blank list for new values\n",
    "    new_values = []\n",
    "    \n",
    "    # looping for encode data\n",
    "    for d  in D['Education']:\n",
    "        if d == 'Bachelors':\n",
    "            new_values.append(0)\n",
    "        elif d == 'Masters':\n",
    "            new_values.append(1)\n",
    "        elif d == 'PHD':\n",
    "            new_values.append(2)\n",
    "        else:\n",
    "            raise('There is foreign value')\n",
    "    \n",
    "    # change data value with new values\n",
    "    D['Education'] = new_values\n",
    "    return D\n",
    "\n",
    "# make pipeline for step 3\n",
    "step3 = ColumnTransformer([\n",
    "    ('enc_edu', FunctionTransformer(EncodeEducation), ['Education']),\n",
    "    ('oe', OrdinalEncoder(),['Gender', 'EverBenched']),\n",
    "    ('ohe', OneHotEncoder(),['City'])\n",
    "],remainder='passthrough')"
   ]
  },
  {
   "cell_type": "code",
   "execution_count": 25,
   "id": "61cb3e01",
   "metadata": {},
   "outputs": [
    {
     "data": {
      "text/html": [
       "<style>#sk-container-id-1 {color: black;background-color: white;}#sk-container-id-1 pre{padding: 0;}#sk-container-id-1 div.sk-toggleable {background-color: white;}#sk-container-id-1 label.sk-toggleable__label {cursor: pointer;display: block;width: 100%;margin-bottom: 0;padding: 0.3em;box-sizing: border-box;text-align: center;}#sk-container-id-1 label.sk-toggleable__label-arrow:before {content: \"▸\";float: left;margin-right: 0.25em;color: #696969;}#sk-container-id-1 label.sk-toggleable__label-arrow:hover:before {color: black;}#sk-container-id-1 div.sk-estimator:hover label.sk-toggleable__label-arrow:before {color: black;}#sk-container-id-1 div.sk-toggleable__content {max-height: 0;max-width: 0;overflow: hidden;text-align: left;background-color: #f0f8ff;}#sk-container-id-1 div.sk-toggleable__content pre {margin: 0.2em;color: black;border-radius: 0.25em;background-color: #f0f8ff;}#sk-container-id-1 input.sk-toggleable__control:checked~div.sk-toggleable__content {max-height: 200px;max-width: 100%;overflow: auto;}#sk-container-id-1 input.sk-toggleable__control:checked~label.sk-toggleable__label-arrow:before {content: \"▾\";}#sk-container-id-1 div.sk-estimator input.sk-toggleable__control:checked~label.sk-toggleable__label {background-color: #d4ebff;}#sk-container-id-1 div.sk-label input.sk-toggleable__control:checked~label.sk-toggleable__label {background-color: #d4ebff;}#sk-container-id-1 input.sk-hidden--visually {border: 0;clip: rect(1px 1px 1px 1px);clip: rect(1px, 1px, 1px, 1px);height: 1px;margin: -1px;overflow: hidden;padding: 0;position: absolute;width: 1px;}#sk-container-id-1 div.sk-estimator {font-family: monospace;background-color: #f0f8ff;border: 1px dotted black;border-radius: 0.25em;box-sizing: border-box;margin-bottom: 0.5em;}#sk-container-id-1 div.sk-estimator:hover {background-color: #d4ebff;}#sk-container-id-1 div.sk-parallel-item::after {content: \"\";width: 100%;border-bottom: 1px solid gray;flex-grow: 1;}#sk-container-id-1 div.sk-label:hover label.sk-toggleable__label {background-color: #d4ebff;}#sk-container-id-1 div.sk-serial::before {content: \"\";position: absolute;border-left: 1px solid gray;box-sizing: border-box;top: 0;bottom: 0;left: 50%;z-index: 0;}#sk-container-id-1 div.sk-serial {display: flex;flex-direction: column;align-items: center;background-color: white;padding-right: 0.2em;padding-left: 0.2em;position: relative;}#sk-container-id-1 div.sk-item {position: relative;z-index: 1;}#sk-container-id-1 div.sk-parallel {display: flex;align-items: stretch;justify-content: center;background-color: white;position: relative;}#sk-container-id-1 div.sk-item::before, #sk-container-id-1 div.sk-parallel-item::before {content: \"\";position: absolute;border-left: 1px solid gray;box-sizing: border-box;top: 0;bottom: 0;left: 50%;z-index: -1;}#sk-container-id-1 div.sk-parallel-item {display: flex;flex-direction: column;z-index: 1;position: relative;background-color: white;}#sk-container-id-1 div.sk-parallel-item:first-child::after {align-self: flex-end;width: 50%;}#sk-container-id-1 div.sk-parallel-item:last-child::after {align-self: flex-start;width: 50%;}#sk-container-id-1 div.sk-parallel-item:only-child::after {width: 0;}#sk-container-id-1 div.sk-dashed-wrapped {border: 1px dashed gray;margin: 0 0.4em 0.5em 0.4em;box-sizing: border-box;padding-bottom: 0.4em;background-color: white;}#sk-container-id-1 div.sk-label label {font-family: monospace;font-weight: bold;display: inline-block;line-height: 1.2em;}#sk-container-id-1 div.sk-label-container {text-align: center;}#sk-container-id-1 div.sk-container {/* jupyter's `normalize.less` sets `[hidden] { display: none; }` but bootstrap.min.css set `[hidden] { display: none !important; }` so we also need the `!important` here to be able to override the default hidden behavior on the sphinx rendered scikit-learn.org. See: https://github.com/scikit-learn/scikit-learn/issues/21755 */display: inline-block !important;position: relative;}#sk-container-id-1 div.sk-text-repr-fallback {display: none;}</style><div id=\"sk-container-id-1\" class=\"sk-top-container\"><div class=\"sk-text-repr-fallback\"><pre>Pipeline(steps=[(&#x27;step1&#x27;,\n",
       "                 Pipeline(steps=[(&#x27;imp&#x27;,\n",
       "                                  ColumnTransformer(transformers=[(&#x27;imp_mean&#x27;,\n",
       "                                                                   SimpleImputer(),\n",
       "                                                                   [&#x27;JoiningYear&#x27;,\n",
       "                                                                    &#x27;Age&#x27;,\n",
       "                                                                    &#x27;ExperienceInCurrentDomain&#x27;]),\n",
       "                                                                  (&#x27;imp_mode&#x27;,\n",
       "                                                                   SimpleImputer(strategy=&#x27;most_frequent&#x27;),\n",
       "                                                                   [&#x27;Education&#x27;,\n",
       "                                                                    &#x27;City&#x27;,\n",
       "                                                                    &#x27;PaymentTier&#x27;,\n",
       "                                                                    &#x27;Gender&#x27;,\n",
       "                                                                    &#x27;EverBenched&#x27;])])),\n",
       "                                 (&#x27;to_df&#x27;,\n",
       "                                  FunctionTransformer(func=&lt;function ToDataFrame at 0x000001B7477B60C0&gt;))...\n",
       "                                  FunctionTransformer(func=&lt;function JoinIn2018 at 0x000001B7477B62A0&gt;)),\n",
       "                                 (&#x27;bining&#x27;,\n",
       "                                  FunctionTransformer(func=&lt;function BiningAge at 0x000001B7477B65C0&gt;))])),\n",
       "                (&#x27;step3&#x27;,\n",
       "                 ColumnTransformer(remainder=&#x27;passthrough&#x27;,\n",
       "                                   transformers=[(&#x27;enc_edu&#x27;,\n",
       "                                                  FunctionTransformer(func=&lt;function EncodeEducation at 0x000001B7477B6200&gt;),\n",
       "                                                  [&#x27;Education&#x27;]),\n",
       "                                                 (&#x27;oe&#x27;, OrdinalEncoder(),\n",
       "                                                  [&#x27;Gender&#x27;, &#x27;EverBenched&#x27;]),\n",
       "                                                 (&#x27;ohe&#x27;, OneHotEncoder(),\n",
       "                                                  [&#x27;City&#x27;])]))])</pre><b>In a Jupyter environment, please rerun this cell to show the HTML representation or trust the notebook. <br />On GitHub, the HTML representation is unable to render, please try loading this page with nbviewer.org.</b></div><div class=\"sk-container\" hidden><div class=\"sk-item sk-dashed-wrapped\"><div class=\"sk-label-container\"><div class=\"sk-label sk-toggleable\"><input class=\"sk-toggleable__control sk-hidden--visually\" id=\"sk-estimator-id-1\" type=\"checkbox\" ><label for=\"sk-estimator-id-1\" class=\"sk-toggleable__label sk-toggleable__label-arrow\">Pipeline</label><div class=\"sk-toggleable__content\"><pre>Pipeline(steps=[(&#x27;step1&#x27;,\n",
       "                 Pipeline(steps=[(&#x27;imp&#x27;,\n",
       "                                  ColumnTransformer(transformers=[(&#x27;imp_mean&#x27;,\n",
       "                                                                   SimpleImputer(),\n",
       "                                                                   [&#x27;JoiningYear&#x27;,\n",
       "                                                                    &#x27;Age&#x27;,\n",
       "                                                                    &#x27;ExperienceInCurrentDomain&#x27;]),\n",
       "                                                                  (&#x27;imp_mode&#x27;,\n",
       "                                                                   SimpleImputer(strategy=&#x27;most_frequent&#x27;),\n",
       "                                                                   [&#x27;Education&#x27;,\n",
       "                                                                    &#x27;City&#x27;,\n",
       "                                                                    &#x27;PaymentTier&#x27;,\n",
       "                                                                    &#x27;Gender&#x27;,\n",
       "                                                                    &#x27;EverBenched&#x27;])])),\n",
       "                                 (&#x27;to_df&#x27;,\n",
       "                                  FunctionTransformer(func=&lt;function ToDataFrame at 0x000001B7477B60C0&gt;))...\n",
       "                                  FunctionTransformer(func=&lt;function JoinIn2018 at 0x000001B7477B62A0&gt;)),\n",
       "                                 (&#x27;bining&#x27;,\n",
       "                                  FunctionTransformer(func=&lt;function BiningAge at 0x000001B7477B65C0&gt;))])),\n",
       "                (&#x27;step3&#x27;,\n",
       "                 ColumnTransformer(remainder=&#x27;passthrough&#x27;,\n",
       "                                   transformers=[(&#x27;enc_edu&#x27;,\n",
       "                                                  FunctionTransformer(func=&lt;function EncodeEducation at 0x000001B7477B6200&gt;),\n",
       "                                                  [&#x27;Education&#x27;]),\n",
       "                                                 (&#x27;oe&#x27;, OrdinalEncoder(),\n",
       "                                                  [&#x27;Gender&#x27;, &#x27;EverBenched&#x27;]),\n",
       "                                                 (&#x27;ohe&#x27;, OneHotEncoder(),\n",
       "                                                  [&#x27;City&#x27;])]))])</pre></div></div></div><div class=\"sk-serial\"><div class=\"sk-item\"><div class=\"sk-label-container\"><div class=\"sk-label sk-toggleable\"><input class=\"sk-toggleable__control sk-hidden--visually\" id=\"sk-estimator-id-2\" type=\"checkbox\" ><label for=\"sk-estimator-id-2\" class=\"sk-toggleable__label sk-toggleable__label-arrow\">step1: Pipeline</label><div class=\"sk-toggleable__content\"><pre>Pipeline(steps=[(&#x27;imp&#x27;,\n",
       "                 ColumnTransformer(transformers=[(&#x27;imp_mean&#x27;, SimpleImputer(),\n",
       "                                                  [&#x27;JoiningYear&#x27;, &#x27;Age&#x27;,\n",
       "                                                   &#x27;ExperienceInCurrentDomain&#x27;]),\n",
       "                                                 (&#x27;imp_mode&#x27;,\n",
       "                                                  SimpleImputer(strategy=&#x27;most_frequent&#x27;),\n",
       "                                                  [&#x27;Education&#x27;, &#x27;City&#x27;,\n",
       "                                                   &#x27;PaymentTier&#x27;, &#x27;Gender&#x27;,\n",
       "                                                   &#x27;EverBenched&#x27;])])),\n",
       "                (&#x27;to_df&#x27;,\n",
       "                 FunctionTransformer(func=&lt;function ToDataFrame at 0x000001B7477B60C0&gt;))])</pre></div></div></div><div class=\"sk-serial\"><div class=\"sk-item sk-dashed-wrapped\"><div class=\"sk-label-container\"><div class=\"sk-label sk-toggleable\"><input class=\"sk-toggleable__control sk-hidden--visually\" id=\"sk-estimator-id-3\" type=\"checkbox\" ><label for=\"sk-estimator-id-3\" class=\"sk-toggleable__label sk-toggleable__label-arrow\">imp: ColumnTransformer</label><div class=\"sk-toggleable__content\"><pre>ColumnTransformer(transformers=[(&#x27;imp_mean&#x27;, SimpleImputer(),\n",
       "                                 [&#x27;JoiningYear&#x27;, &#x27;Age&#x27;,\n",
       "                                  &#x27;ExperienceInCurrentDomain&#x27;]),\n",
       "                                (&#x27;imp_mode&#x27;,\n",
       "                                 SimpleImputer(strategy=&#x27;most_frequent&#x27;),\n",
       "                                 [&#x27;Education&#x27;, &#x27;City&#x27;, &#x27;PaymentTier&#x27;, &#x27;Gender&#x27;,\n",
       "                                  &#x27;EverBenched&#x27;])])</pre></div></div></div><div class=\"sk-parallel\"><div class=\"sk-parallel-item\"><div class=\"sk-item\"><div class=\"sk-label-container\"><div class=\"sk-label sk-toggleable\"><input class=\"sk-toggleable__control sk-hidden--visually\" id=\"sk-estimator-id-4\" type=\"checkbox\" ><label for=\"sk-estimator-id-4\" class=\"sk-toggleable__label sk-toggleable__label-arrow\">imp_mean</label><div class=\"sk-toggleable__content\"><pre>[&#x27;JoiningYear&#x27;, &#x27;Age&#x27;, &#x27;ExperienceInCurrentDomain&#x27;]</pre></div></div></div><div class=\"sk-serial\"><div class=\"sk-item\"><div class=\"sk-estimator sk-toggleable\"><input class=\"sk-toggleable__control sk-hidden--visually\" id=\"sk-estimator-id-5\" type=\"checkbox\" ><label for=\"sk-estimator-id-5\" class=\"sk-toggleable__label sk-toggleable__label-arrow\">SimpleImputer</label><div class=\"sk-toggleable__content\"><pre>SimpleImputer()</pre></div></div></div></div></div></div><div class=\"sk-parallel-item\"><div class=\"sk-item\"><div class=\"sk-label-container\"><div class=\"sk-label sk-toggleable\"><input class=\"sk-toggleable__control sk-hidden--visually\" id=\"sk-estimator-id-6\" type=\"checkbox\" ><label for=\"sk-estimator-id-6\" class=\"sk-toggleable__label sk-toggleable__label-arrow\">imp_mode</label><div class=\"sk-toggleable__content\"><pre>[&#x27;Education&#x27;, &#x27;City&#x27;, &#x27;PaymentTier&#x27;, &#x27;Gender&#x27;, &#x27;EverBenched&#x27;]</pre></div></div></div><div class=\"sk-serial\"><div class=\"sk-item\"><div class=\"sk-estimator sk-toggleable\"><input class=\"sk-toggleable__control sk-hidden--visually\" id=\"sk-estimator-id-7\" type=\"checkbox\" ><label for=\"sk-estimator-id-7\" class=\"sk-toggleable__label sk-toggleable__label-arrow\">SimpleImputer</label><div class=\"sk-toggleable__content\"><pre>SimpleImputer(strategy=&#x27;most_frequent&#x27;)</pre></div></div></div></div></div></div></div></div><div class=\"sk-item\"><div class=\"sk-estimator sk-toggleable\"><input class=\"sk-toggleable__control sk-hidden--visually\" id=\"sk-estimator-id-8\" type=\"checkbox\" ><label for=\"sk-estimator-id-8\" class=\"sk-toggleable__label sk-toggleable__label-arrow\">FunctionTransformer</label><div class=\"sk-toggleable__content\"><pre>FunctionTransformer(func=&lt;function ToDataFrame at 0x000001B7477B60C0&gt;)</pre></div></div></div></div></div><div class=\"sk-item\"><div class=\"sk-label-container\"><div class=\"sk-label sk-toggleable\"><input class=\"sk-toggleable__control sk-hidden--visually\" id=\"sk-estimator-id-9\" type=\"checkbox\" ><label for=\"sk-estimator-id-9\" class=\"sk-toggleable__label sk-toggleable__label-arrow\">step2: Pipeline</label><div class=\"sk-toggleable__content\"><pre>Pipeline(steps=[(&#x27;adding&#x27;,\n",
       "                 FunctionTransformer(func=&lt;function JoinIn2018 at 0x000001B7477B62A0&gt;)),\n",
       "                (&#x27;bining&#x27;,\n",
       "                 FunctionTransformer(func=&lt;function BiningAge at 0x000001B7477B65C0&gt;))])</pre></div></div></div><div class=\"sk-serial\"><div class=\"sk-item\"><div class=\"sk-estimator sk-toggleable\"><input class=\"sk-toggleable__control sk-hidden--visually\" id=\"sk-estimator-id-10\" type=\"checkbox\" ><label for=\"sk-estimator-id-10\" class=\"sk-toggleable__label sk-toggleable__label-arrow\">FunctionTransformer</label><div class=\"sk-toggleable__content\"><pre>FunctionTransformer(func=&lt;function JoinIn2018 at 0x000001B7477B62A0&gt;)</pre></div></div></div><div class=\"sk-item\"><div class=\"sk-estimator sk-toggleable\"><input class=\"sk-toggleable__control sk-hidden--visually\" id=\"sk-estimator-id-11\" type=\"checkbox\" ><label for=\"sk-estimator-id-11\" class=\"sk-toggleable__label sk-toggleable__label-arrow\">FunctionTransformer</label><div class=\"sk-toggleable__content\"><pre>FunctionTransformer(func=&lt;function BiningAge at 0x000001B7477B65C0&gt;)</pre></div></div></div></div></div><div class=\"sk-item sk-dashed-wrapped\"><div class=\"sk-label-container\"><div class=\"sk-label sk-toggleable\"><input class=\"sk-toggleable__control sk-hidden--visually\" id=\"sk-estimator-id-12\" type=\"checkbox\" ><label for=\"sk-estimator-id-12\" class=\"sk-toggleable__label sk-toggleable__label-arrow\">step3: ColumnTransformer</label><div class=\"sk-toggleable__content\"><pre>ColumnTransformer(remainder=&#x27;passthrough&#x27;,\n",
       "                  transformers=[(&#x27;enc_edu&#x27;,\n",
       "                                 FunctionTransformer(func=&lt;function EncodeEducation at 0x000001B7477B6200&gt;),\n",
       "                                 [&#x27;Education&#x27;]),\n",
       "                                (&#x27;oe&#x27;, OrdinalEncoder(),\n",
       "                                 [&#x27;Gender&#x27;, &#x27;EverBenched&#x27;]),\n",
       "                                (&#x27;ohe&#x27;, OneHotEncoder(), [&#x27;City&#x27;])])</pre></div></div></div><div class=\"sk-parallel\"><div class=\"sk-parallel-item\"><div class=\"sk-item\"><div class=\"sk-label-container\"><div class=\"sk-label sk-toggleable\"><input class=\"sk-toggleable__control sk-hidden--visually\" id=\"sk-estimator-id-13\" type=\"checkbox\" ><label for=\"sk-estimator-id-13\" class=\"sk-toggleable__label sk-toggleable__label-arrow\">enc_edu</label><div class=\"sk-toggleable__content\"><pre>[&#x27;Education&#x27;]</pre></div></div></div><div class=\"sk-serial\"><div class=\"sk-item\"><div class=\"sk-estimator sk-toggleable\"><input class=\"sk-toggleable__control sk-hidden--visually\" id=\"sk-estimator-id-14\" type=\"checkbox\" ><label for=\"sk-estimator-id-14\" class=\"sk-toggleable__label sk-toggleable__label-arrow\">FunctionTransformer</label><div class=\"sk-toggleable__content\"><pre>FunctionTransformer(func=&lt;function EncodeEducation at 0x000001B7477B6200&gt;)</pre></div></div></div></div></div></div><div class=\"sk-parallel-item\"><div class=\"sk-item\"><div class=\"sk-label-container\"><div class=\"sk-label sk-toggleable\"><input class=\"sk-toggleable__control sk-hidden--visually\" id=\"sk-estimator-id-15\" type=\"checkbox\" ><label for=\"sk-estimator-id-15\" class=\"sk-toggleable__label sk-toggleable__label-arrow\">oe</label><div class=\"sk-toggleable__content\"><pre>[&#x27;Gender&#x27;, &#x27;EverBenched&#x27;]</pre></div></div></div><div class=\"sk-serial\"><div class=\"sk-item\"><div class=\"sk-estimator sk-toggleable\"><input class=\"sk-toggleable__control sk-hidden--visually\" id=\"sk-estimator-id-16\" type=\"checkbox\" ><label for=\"sk-estimator-id-16\" class=\"sk-toggleable__label sk-toggleable__label-arrow\">OrdinalEncoder</label><div class=\"sk-toggleable__content\"><pre>OrdinalEncoder()</pre></div></div></div></div></div></div><div class=\"sk-parallel-item\"><div class=\"sk-item\"><div class=\"sk-label-container\"><div class=\"sk-label sk-toggleable\"><input class=\"sk-toggleable__control sk-hidden--visually\" id=\"sk-estimator-id-17\" type=\"checkbox\" ><label for=\"sk-estimator-id-17\" class=\"sk-toggleable__label sk-toggleable__label-arrow\">ohe</label><div class=\"sk-toggleable__content\"><pre>[&#x27;City&#x27;]</pre></div></div></div><div class=\"sk-serial\"><div class=\"sk-item\"><div class=\"sk-estimator sk-toggleable\"><input class=\"sk-toggleable__control sk-hidden--visually\" id=\"sk-estimator-id-18\" type=\"checkbox\" ><label for=\"sk-estimator-id-18\" class=\"sk-toggleable__label sk-toggleable__label-arrow\">OneHotEncoder</label><div class=\"sk-toggleable__content\"><pre>OneHotEncoder()</pre></div></div></div></div></div></div><div class=\"sk-parallel-item\"><div class=\"sk-item\"><div class=\"sk-label-container\"><div class=\"sk-label sk-toggleable\"><input class=\"sk-toggleable__control sk-hidden--visually\" id=\"sk-estimator-id-19\" type=\"checkbox\" ><label for=\"sk-estimator-id-19\" class=\"sk-toggleable__label sk-toggleable__label-arrow\">remainder</label><div class=\"sk-toggleable__content\"><pre>[&#x27;JoiningYear&#x27;, &#x27;JoinIn2018&#x27;, &#x27;Age&#x27;, &#x27;BiningAge&#x27;, &#x27;ExperienceInCurrentDomain&#x27;, &#x27;PaymentTier&#x27;]</pre></div></div></div><div class=\"sk-serial\"><div class=\"sk-item\"><div class=\"sk-estimator sk-toggleable\"><input class=\"sk-toggleable__control sk-hidden--visually\" id=\"sk-estimator-id-20\" type=\"checkbox\" ><label for=\"sk-estimator-id-20\" class=\"sk-toggleable__label sk-toggleable__label-arrow\">passthrough</label><div class=\"sk-toggleable__content\"><pre>passthrough</pre></div></div></div></div></div></div></div></div></div></div></div></div>"
      ],
      "text/plain": [
       "Pipeline(steps=[('step1',\n",
       "                 Pipeline(steps=[('imp',\n",
       "                                  ColumnTransformer(transformers=[('imp_mean',\n",
       "                                                                   SimpleImputer(),\n",
       "                                                                   ['JoiningYear',\n",
       "                                                                    'Age',\n",
       "                                                                    'ExperienceInCurrentDomain']),\n",
       "                                                                  ('imp_mode',\n",
       "                                                                   SimpleImputer(strategy='most_frequent'),\n",
       "                                                                   ['Education',\n",
       "                                                                    'City',\n",
       "                                                                    'PaymentTier',\n",
       "                                                                    'Gender',\n",
       "                                                                    'EverBenched'])])),\n",
       "                                 ('to_df',\n",
       "                                  FunctionTransformer(func=<function ToDataFrame at 0x000001B7477B60C0>))...\n",
       "                                  FunctionTransformer(func=<function JoinIn2018 at 0x000001B7477B62A0>)),\n",
       "                                 ('bining',\n",
       "                                  FunctionTransformer(func=<function BiningAge at 0x000001B7477B65C0>))])),\n",
       "                ('step3',\n",
       "                 ColumnTransformer(remainder='passthrough',\n",
       "                                   transformers=[('enc_edu',\n",
       "                                                  FunctionTransformer(func=<function EncodeEducation at 0x000001B7477B6200>),\n",
       "                                                  ['Education']),\n",
       "                                                 ('oe', OrdinalEncoder(),\n",
       "                                                  ['Gender', 'EverBenched']),\n",
       "                                                 ('ohe', OneHotEncoder(),\n",
       "                                                  ['City'])]))])"
      ]
     },
     "execution_count": 25,
     "metadata": {},
     "output_type": "execute_result"
    }
   ],
   "source": [
    "# pipeline before scaling\n",
    "before_scaling = Pipeline([\n",
    "    ('step1', step1),\n",
    "    ('step2', step2),\n",
    "    ('step3', step3)\n",
    "])\n",
    "\n",
    "# fitting pipeline\n",
    "before_scaling.fit(X_train)"
   ]
  },
  {
   "cell_type": "code",
   "execution_count": 26,
   "id": "72e4ba63",
   "metadata": {},
   "outputs": [
    {
     "data": {
      "text/plain": [
       "array([[0, 1.0, 0.0, ..., 2, 1.0, 3],\n",
       "       [2, 1.0, 0.0, ..., 1, 3.0, 3],\n",
       "       [1, 1.0, 0.0, ..., 1, 2.0, 2],\n",
       "       ...,\n",
       "       [0, 1.0, 0.0, ..., 2, 3.0, 3],\n",
       "       [0, 1.0, 0.0, ..., 3, 3.0, 3],\n",
       "       [0, 0.0, 0.0, ..., 2, 4.0, 2]], dtype=object)"
      ]
     },
     "execution_count": 26,
     "metadata": {},
     "output_type": "execute_result"
    }
   ],
   "source": [
    "# check\n",
    "check = before_scaling.transform(X_train)\n",
    "check"
   ]
  },
  {
   "cell_type": "code",
   "execution_count": 27,
   "id": "bea2c7e9",
   "metadata": {},
   "outputs": [],
   "source": [
    "# scalling\n",
    "\n",
    "# import library (scaler)\n",
    "from sklearn.preprocessing import StandardScaler, MinMaxScaler, Normalizer\n",
    "\n",
    "# make pipeline for step 4\n",
    "def scaling(D, scale=StandardScaler()):\n",
    "    D_scaling = scale.fit_transform(D)\n",
    "    return D_scaling"
   ]
  },
  {
   "cell_type": "code",
   "execution_count": 28,
   "id": "f0c92b70",
   "metadata": {},
   "outputs": [
    {
     "data": {
      "text/html": [
       "<style>#sk-container-id-2 {color: black;background-color: white;}#sk-container-id-2 pre{padding: 0;}#sk-container-id-2 div.sk-toggleable {background-color: white;}#sk-container-id-2 label.sk-toggleable__label {cursor: pointer;display: block;width: 100%;margin-bottom: 0;padding: 0.3em;box-sizing: border-box;text-align: center;}#sk-container-id-2 label.sk-toggleable__label-arrow:before {content: \"▸\";float: left;margin-right: 0.25em;color: #696969;}#sk-container-id-2 label.sk-toggleable__label-arrow:hover:before {color: black;}#sk-container-id-2 div.sk-estimator:hover label.sk-toggleable__label-arrow:before {color: black;}#sk-container-id-2 div.sk-toggleable__content {max-height: 0;max-width: 0;overflow: hidden;text-align: left;background-color: #f0f8ff;}#sk-container-id-2 div.sk-toggleable__content pre {margin: 0.2em;color: black;border-radius: 0.25em;background-color: #f0f8ff;}#sk-container-id-2 input.sk-toggleable__control:checked~div.sk-toggleable__content {max-height: 200px;max-width: 100%;overflow: auto;}#sk-container-id-2 input.sk-toggleable__control:checked~label.sk-toggleable__label-arrow:before {content: \"▾\";}#sk-container-id-2 div.sk-estimator input.sk-toggleable__control:checked~label.sk-toggleable__label {background-color: #d4ebff;}#sk-container-id-2 div.sk-label input.sk-toggleable__control:checked~label.sk-toggleable__label {background-color: #d4ebff;}#sk-container-id-2 input.sk-hidden--visually {border: 0;clip: rect(1px 1px 1px 1px);clip: rect(1px, 1px, 1px, 1px);height: 1px;margin: -1px;overflow: hidden;padding: 0;position: absolute;width: 1px;}#sk-container-id-2 div.sk-estimator {font-family: monospace;background-color: #f0f8ff;border: 1px dotted black;border-radius: 0.25em;box-sizing: border-box;margin-bottom: 0.5em;}#sk-container-id-2 div.sk-estimator:hover {background-color: #d4ebff;}#sk-container-id-2 div.sk-parallel-item::after {content: \"\";width: 100%;border-bottom: 1px solid gray;flex-grow: 1;}#sk-container-id-2 div.sk-label:hover label.sk-toggleable__label {background-color: #d4ebff;}#sk-container-id-2 div.sk-serial::before {content: \"\";position: absolute;border-left: 1px solid gray;box-sizing: border-box;top: 0;bottom: 0;left: 50%;z-index: 0;}#sk-container-id-2 div.sk-serial {display: flex;flex-direction: column;align-items: center;background-color: white;padding-right: 0.2em;padding-left: 0.2em;position: relative;}#sk-container-id-2 div.sk-item {position: relative;z-index: 1;}#sk-container-id-2 div.sk-parallel {display: flex;align-items: stretch;justify-content: center;background-color: white;position: relative;}#sk-container-id-2 div.sk-item::before, #sk-container-id-2 div.sk-parallel-item::before {content: \"\";position: absolute;border-left: 1px solid gray;box-sizing: border-box;top: 0;bottom: 0;left: 50%;z-index: -1;}#sk-container-id-2 div.sk-parallel-item {display: flex;flex-direction: column;z-index: 1;position: relative;background-color: white;}#sk-container-id-2 div.sk-parallel-item:first-child::after {align-self: flex-end;width: 50%;}#sk-container-id-2 div.sk-parallel-item:last-child::after {align-self: flex-start;width: 50%;}#sk-container-id-2 div.sk-parallel-item:only-child::after {width: 0;}#sk-container-id-2 div.sk-dashed-wrapped {border: 1px dashed gray;margin: 0 0.4em 0.5em 0.4em;box-sizing: border-box;padding-bottom: 0.4em;background-color: white;}#sk-container-id-2 div.sk-label label {font-family: monospace;font-weight: bold;display: inline-block;line-height: 1.2em;}#sk-container-id-2 div.sk-label-container {text-align: center;}#sk-container-id-2 div.sk-container {/* jupyter's `normalize.less` sets `[hidden] { display: none; }` but bootstrap.min.css set `[hidden] { display: none !important; }` so we also need the `!important` here to be able to override the default hidden behavior on the sphinx rendered scikit-learn.org. See: https://github.com/scikit-learn/scikit-learn/issues/21755 */display: inline-block !important;position: relative;}#sk-container-id-2 div.sk-text-repr-fallback {display: none;}</style><div id=\"sk-container-id-2\" class=\"sk-top-container\"><div class=\"sk-text-repr-fallback\"><pre>Pipeline(steps=[(&#x27;before_scale&#x27;,\n",
       "                 Pipeline(steps=[(&#x27;step1&#x27;,\n",
       "                                  Pipeline(steps=[(&#x27;imp&#x27;,\n",
       "                                                   ColumnTransformer(transformers=[(&#x27;imp_mean&#x27;,\n",
       "                                                                                    SimpleImputer(),\n",
       "                                                                                    [&#x27;JoiningYear&#x27;,\n",
       "                                                                                     &#x27;Age&#x27;,\n",
       "                                                                                     &#x27;ExperienceInCurrentDomain&#x27;]),\n",
       "                                                                                   (&#x27;imp_mode&#x27;,\n",
       "                                                                                    SimpleImputer(strategy=&#x27;most_frequent&#x27;),\n",
       "                                                                                    [&#x27;Education&#x27;,\n",
       "                                                                                     &#x27;City&#x27;,\n",
       "                                                                                     &#x27;PaymentTier&#x27;,\n",
       "                                                                                     &#x27;Gender&#x27;,\n",
       "                                                                                     &#x27;EverBenched&#x27;])])),\n",
       "                                                  (&#x27;to_df&#x27;,\n",
       "                                                   FunctionTransformer(func=&lt;function To...\n",
       "                                                   FunctionTransformer(func=&lt;function BiningAge at 0x000001B7477B65C0&gt;))])),\n",
       "                                 (&#x27;step3&#x27;,\n",
       "                                  ColumnTransformer(remainder=&#x27;passthrough&#x27;,\n",
       "                                                    transformers=[(&#x27;enc_edu&#x27;,\n",
       "                                                                   FunctionTransformer(func=&lt;function EncodeEducation at 0x000001B7477B6200&gt;),\n",
       "                                                                   [&#x27;Education&#x27;]),\n",
       "                                                                  (&#x27;oe&#x27;,\n",
       "                                                                   OrdinalEncoder(),\n",
       "                                                                   [&#x27;Gender&#x27;,\n",
       "                                                                    &#x27;EverBenched&#x27;]),\n",
       "                                                                  (&#x27;ohe&#x27;,\n",
       "                                                                   OneHotEncoder(),\n",
       "                                                                   [&#x27;City&#x27;])]))])),\n",
       "                (&#x27;scale&#x27;,\n",
       "                 FunctionTransformer(func=&lt;function scaling at 0x000001B7477B7CE0&gt;))])</pre><b>In a Jupyter environment, please rerun this cell to show the HTML representation or trust the notebook. <br />On GitHub, the HTML representation is unable to render, please try loading this page with nbviewer.org.</b></div><div class=\"sk-container\" hidden><div class=\"sk-item sk-dashed-wrapped\"><div class=\"sk-label-container\"><div class=\"sk-label sk-toggleable\"><input class=\"sk-toggleable__control sk-hidden--visually\" id=\"sk-estimator-id-21\" type=\"checkbox\" ><label for=\"sk-estimator-id-21\" class=\"sk-toggleable__label sk-toggleable__label-arrow\">Pipeline</label><div class=\"sk-toggleable__content\"><pre>Pipeline(steps=[(&#x27;before_scale&#x27;,\n",
       "                 Pipeline(steps=[(&#x27;step1&#x27;,\n",
       "                                  Pipeline(steps=[(&#x27;imp&#x27;,\n",
       "                                                   ColumnTransformer(transformers=[(&#x27;imp_mean&#x27;,\n",
       "                                                                                    SimpleImputer(),\n",
       "                                                                                    [&#x27;JoiningYear&#x27;,\n",
       "                                                                                     &#x27;Age&#x27;,\n",
       "                                                                                     &#x27;ExperienceInCurrentDomain&#x27;]),\n",
       "                                                                                   (&#x27;imp_mode&#x27;,\n",
       "                                                                                    SimpleImputer(strategy=&#x27;most_frequent&#x27;),\n",
       "                                                                                    [&#x27;Education&#x27;,\n",
       "                                                                                     &#x27;City&#x27;,\n",
       "                                                                                     &#x27;PaymentTier&#x27;,\n",
       "                                                                                     &#x27;Gender&#x27;,\n",
       "                                                                                     &#x27;EverBenched&#x27;])])),\n",
       "                                                  (&#x27;to_df&#x27;,\n",
       "                                                   FunctionTransformer(func=&lt;function To...\n",
       "                                                   FunctionTransformer(func=&lt;function BiningAge at 0x000001B7477B65C0&gt;))])),\n",
       "                                 (&#x27;step3&#x27;,\n",
       "                                  ColumnTransformer(remainder=&#x27;passthrough&#x27;,\n",
       "                                                    transformers=[(&#x27;enc_edu&#x27;,\n",
       "                                                                   FunctionTransformer(func=&lt;function EncodeEducation at 0x000001B7477B6200&gt;),\n",
       "                                                                   [&#x27;Education&#x27;]),\n",
       "                                                                  (&#x27;oe&#x27;,\n",
       "                                                                   OrdinalEncoder(),\n",
       "                                                                   [&#x27;Gender&#x27;,\n",
       "                                                                    &#x27;EverBenched&#x27;]),\n",
       "                                                                  (&#x27;ohe&#x27;,\n",
       "                                                                   OneHotEncoder(),\n",
       "                                                                   [&#x27;City&#x27;])]))])),\n",
       "                (&#x27;scale&#x27;,\n",
       "                 FunctionTransformer(func=&lt;function scaling at 0x000001B7477B7CE0&gt;))])</pre></div></div></div><div class=\"sk-serial\"><div class=\"sk-item\"><div class=\"sk-label-container\"><div class=\"sk-label sk-toggleable\"><input class=\"sk-toggleable__control sk-hidden--visually\" id=\"sk-estimator-id-22\" type=\"checkbox\" ><label for=\"sk-estimator-id-22\" class=\"sk-toggleable__label sk-toggleable__label-arrow\">before_scale: Pipeline</label><div class=\"sk-toggleable__content\"><pre>Pipeline(steps=[(&#x27;step1&#x27;,\n",
       "                 Pipeline(steps=[(&#x27;imp&#x27;,\n",
       "                                  ColumnTransformer(transformers=[(&#x27;imp_mean&#x27;,\n",
       "                                                                   SimpleImputer(),\n",
       "                                                                   [&#x27;JoiningYear&#x27;,\n",
       "                                                                    &#x27;Age&#x27;,\n",
       "                                                                    &#x27;ExperienceInCurrentDomain&#x27;]),\n",
       "                                                                  (&#x27;imp_mode&#x27;,\n",
       "                                                                   SimpleImputer(strategy=&#x27;most_frequent&#x27;),\n",
       "                                                                   [&#x27;Education&#x27;,\n",
       "                                                                    &#x27;City&#x27;,\n",
       "                                                                    &#x27;PaymentTier&#x27;,\n",
       "                                                                    &#x27;Gender&#x27;,\n",
       "                                                                    &#x27;EverBenched&#x27;])])),\n",
       "                                 (&#x27;to_df&#x27;,\n",
       "                                  FunctionTransformer(func=&lt;function ToDataFrame at 0x000001B7477B60C0&gt;))...\n",
       "                                  FunctionTransformer(func=&lt;function JoinIn2018 at 0x000001B7477B62A0&gt;)),\n",
       "                                 (&#x27;bining&#x27;,\n",
       "                                  FunctionTransformer(func=&lt;function BiningAge at 0x000001B7477B65C0&gt;))])),\n",
       "                (&#x27;step3&#x27;,\n",
       "                 ColumnTransformer(remainder=&#x27;passthrough&#x27;,\n",
       "                                   transformers=[(&#x27;enc_edu&#x27;,\n",
       "                                                  FunctionTransformer(func=&lt;function EncodeEducation at 0x000001B7477B6200&gt;),\n",
       "                                                  [&#x27;Education&#x27;]),\n",
       "                                                 (&#x27;oe&#x27;, OrdinalEncoder(),\n",
       "                                                  [&#x27;Gender&#x27;, &#x27;EverBenched&#x27;]),\n",
       "                                                 (&#x27;ohe&#x27;, OneHotEncoder(),\n",
       "                                                  [&#x27;City&#x27;])]))])</pre></div></div></div><div class=\"sk-serial\"><div class=\"sk-item\"><div class=\"sk-label-container\"><div class=\"sk-label sk-toggleable\"><input class=\"sk-toggleable__control sk-hidden--visually\" id=\"sk-estimator-id-23\" type=\"checkbox\" ><label for=\"sk-estimator-id-23\" class=\"sk-toggleable__label sk-toggleable__label-arrow\">step1: Pipeline</label><div class=\"sk-toggleable__content\"><pre>Pipeline(steps=[(&#x27;imp&#x27;,\n",
       "                 ColumnTransformer(transformers=[(&#x27;imp_mean&#x27;, SimpleImputer(),\n",
       "                                                  [&#x27;JoiningYear&#x27;, &#x27;Age&#x27;,\n",
       "                                                   &#x27;ExperienceInCurrentDomain&#x27;]),\n",
       "                                                 (&#x27;imp_mode&#x27;,\n",
       "                                                  SimpleImputer(strategy=&#x27;most_frequent&#x27;),\n",
       "                                                  [&#x27;Education&#x27;, &#x27;City&#x27;,\n",
       "                                                   &#x27;PaymentTier&#x27;, &#x27;Gender&#x27;,\n",
       "                                                   &#x27;EverBenched&#x27;])])),\n",
       "                (&#x27;to_df&#x27;,\n",
       "                 FunctionTransformer(func=&lt;function ToDataFrame at 0x000001B7477B60C0&gt;))])</pre></div></div></div><div class=\"sk-serial\"><div class=\"sk-item sk-dashed-wrapped\"><div class=\"sk-label-container\"><div class=\"sk-label sk-toggleable\"><input class=\"sk-toggleable__control sk-hidden--visually\" id=\"sk-estimator-id-24\" type=\"checkbox\" ><label for=\"sk-estimator-id-24\" class=\"sk-toggleable__label sk-toggleable__label-arrow\">imp: ColumnTransformer</label><div class=\"sk-toggleable__content\"><pre>ColumnTransformer(transformers=[(&#x27;imp_mean&#x27;, SimpleImputer(),\n",
       "                                 [&#x27;JoiningYear&#x27;, &#x27;Age&#x27;,\n",
       "                                  &#x27;ExperienceInCurrentDomain&#x27;]),\n",
       "                                (&#x27;imp_mode&#x27;,\n",
       "                                 SimpleImputer(strategy=&#x27;most_frequent&#x27;),\n",
       "                                 [&#x27;Education&#x27;, &#x27;City&#x27;, &#x27;PaymentTier&#x27;, &#x27;Gender&#x27;,\n",
       "                                  &#x27;EverBenched&#x27;])])</pre></div></div></div><div class=\"sk-parallel\"><div class=\"sk-parallel-item\"><div class=\"sk-item\"><div class=\"sk-label-container\"><div class=\"sk-label sk-toggleable\"><input class=\"sk-toggleable__control sk-hidden--visually\" id=\"sk-estimator-id-25\" type=\"checkbox\" ><label for=\"sk-estimator-id-25\" class=\"sk-toggleable__label sk-toggleable__label-arrow\">imp_mean</label><div class=\"sk-toggleable__content\"><pre>[&#x27;JoiningYear&#x27;, &#x27;Age&#x27;, &#x27;ExperienceInCurrentDomain&#x27;]</pre></div></div></div><div class=\"sk-serial\"><div class=\"sk-item\"><div class=\"sk-estimator sk-toggleable\"><input class=\"sk-toggleable__control sk-hidden--visually\" id=\"sk-estimator-id-26\" type=\"checkbox\" ><label for=\"sk-estimator-id-26\" class=\"sk-toggleable__label sk-toggleable__label-arrow\">SimpleImputer</label><div class=\"sk-toggleable__content\"><pre>SimpleImputer()</pre></div></div></div></div></div></div><div class=\"sk-parallel-item\"><div class=\"sk-item\"><div class=\"sk-label-container\"><div class=\"sk-label sk-toggleable\"><input class=\"sk-toggleable__control sk-hidden--visually\" id=\"sk-estimator-id-27\" type=\"checkbox\" ><label for=\"sk-estimator-id-27\" class=\"sk-toggleable__label sk-toggleable__label-arrow\">imp_mode</label><div class=\"sk-toggleable__content\"><pre>[&#x27;Education&#x27;, &#x27;City&#x27;, &#x27;PaymentTier&#x27;, &#x27;Gender&#x27;, &#x27;EverBenched&#x27;]</pre></div></div></div><div class=\"sk-serial\"><div class=\"sk-item\"><div class=\"sk-estimator sk-toggleable\"><input class=\"sk-toggleable__control sk-hidden--visually\" id=\"sk-estimator-id-28\" type=\"checkbox\" ><label for=\"sk-estimator-id-28\" class=\"sk-toggleable__label sk-toggleable__label-arrow\">SimpleImputer</label><div class=\"sk-toggleable__content\"><pre>SimpleImputer(strategy=&#x27;most_frequent&#x27;)</pre></div></div></div></div></div></div></div></div><div class=\"sk-item\"><div class=\"sk-estimator sk-toggleable\"><input class=\"sk-toggleable__control sk-hidden--visually\" id=\"sk-estimator-id-29\" type=\"checkbox\" ><label for=\"sk-estimator-id-29\" class=\"sk-toggleable__label sk-toggleable__label-arrow\">FunctionTransformer</label><div class=\"sk-toggleable__content\"><pre>FunctionTransformer(func=&lt;function ToDataFrame at 0x000001B7477B60C0&gt;)</pre></div></div></div></div></div><div class=\"sk-item\"><div class=\"sk-label-container\"><div class=\"sk-label sk-toggleable\"><input class=\"sk-toggleable__control sk-hidden--visually\" id=\"sk-estimator-id-30\" type=\"checkbox\" ><label for=\"sk-estimator-id-30\" class=\"sk-toggleable__label sk-toggleable__label-arrow\">step2: Pipeline</label><div class=\"sk-toggleable__content\"><pre>Pipeline(steps=[(&#x27;adding&#x27;,\n",
       "                 FunctionTransformer(func=&lt;function JoinIn2018 at 0x000001B7477B62A0&gt;)),\n",
       "                (&#x27;bining&#x27;,\n",
       "                 FunctionTransformer(func=&lt;function BiningAge at 0x000001B7477B65C0&gt;))])</pre></div></div></div><div class=\"sk-serial\"><div class=\"sk-item\"><div class=\"sk-estimator sk-toggleable\"><input class=\"sk-toggleable__control sk-hidden--visually\" id=\"sk-estimator-id-31\" type=\"checkbox\" ><label for=\"sk-estimator-id-31\" class=\"sk-toggleable__label sk-toggleable__label-arrow\">FunctionTransformer</label><div class=\"sk-toggleable__content\"><pre>FunctionTransformer(func=&lt;function JoinIn2018 at 0x000001B7477B62A0&gt;)</pre></div></div></div><div class=\"sk-item\"><div class=\"sk-estimator sk-toggleable\"><input class=\"sk-toggleable__control sk-hidden--visually\" id=\"sk-estimator-id-32\" type=\"checkbox\" ><label for=\"sk-estimator-id-32\" class=\"sk-toggleable__label sk-toggleable__label-arrow\">FunctionTransformer</label><div class=\"sk-toggleable__content\"><pre>FunctionTransformer(func=&lt;function BiningAge at 0x000001B7477B65C0&gt;)</pre></div></div></div></div></div><div class=\"sk-item sk-dashed-wrapped\"><div class=\"sk-label-container\"><div class=\"sk-label sk-toggleable\"><input class=\"sk-toggleable__control sk-hidden--visually\" id=\"sk-estimator-id-33\" type=\"checkbox\" ><label for=\"sk-estimator-id-33\" class=\"sk-toggleable__label sk-toggleable__label-arrow\">step3: ColumnTransformer</label><div class=\"sk-toggleable__content\"><pre>ColumnTransformer(remainder=&#x27;passthrough&#x27;,\n",
       "                  transformers=[(&#x27;enc_edu&#x27;,\n",
       "                                 FunctionTransformer(func=&lt;function EncodeEducation at 0x000001B7477B6200&gt;),\n",
       "                                 [&#x27;Education&#x27;]),\n",
       "                                (&#x27;oe&#x27;, OrdinalEncoder(),\n",
       "                                 [&#x27;Gender&#x27;, &#x27;EverBenched&#x27;]),\n",
       "                                (&#x27;ohe&#x27;, OneHotEncoder(), [&#x27;City&#x27;])])</pre></div></div></div><div class=\"sk-parallel\"><div class=\"sk-parallel-item\"><div class=\"sk-item\"><div class=\"sk-label-container\"><div class=\"sk-label sk-toggleable\"><input class=\"sk-toggleable__control sk-hidden--visually\" id=\"sk-estimator-id-34\" type=\"checkbox\" ><label for=\"sk-estimator-id-34\" class=\"sk-toggleable__label sk-toggleable__label-arrow\">enc_edu</label><div class=\"sk-toggleable__content\"><pre>[&#x27;Education&#x27;]</pre></div></div></div><div class=\"sk-serial\"><div class=\"sk-item\"><div class=\"sk-estimator sk-toggleable\"><input class=\"sk-toggleable__control sk-hidden--visually\" id=\"sk-estimator-id-35\" type=\"checkbox\" ><label for=\"sk-estimator-id-35\" class=\"sk-toggleable__label sk-toggleable__label-arrow\">FunctionTransformer</label><div class=\"sk-toggleable__content\"><pre>FunctionTransformer(func=&lt;function EncodeEducation at 0x000001B7477B6200&gt;)</pre></div></div></div></div></div></div><div class=\"sk-parallel-item\"><div class=\"sk-item\"><div class=\"sk-label-container\"><div class=\"sk-label sk-toggleable\"><input class=\"sk-toggleable__control sk-hidden--visually\" id=\"sk-estimator-id-36\" type=\"checkbox\" ><label for=\"sk-estimator-id-36\" class=\"sk-toggleable__label sk-toggleable__label-arrow\">oe</label><div class=\"sk-toggleable__content\"><pre>[&#x27;Gender&#x27;, &#x27;EverBenched&#x27;]</pre></div></div></div><div class=\"sk-serial\"><div class=\"sk-item\"><div class=\"sk-estimator sk-toggleable\"><input class=\"sk-toggleable__control sk-hidden--visually\" id=\"sk-estimator-id-37\" type=\"checkbox\" ><label for=\"sk-estimator-id-37\" class=\"sk-toggleable__label sk-toggleable__label-arrow\">OrdinalEncoder</label><div class=\"sk-toggleable__content\"><pre>OrdinalEncoder()</pre></div></div></div></div></div></div><div class=\"sk-parallel-item\"><div class=\"sk-item\"><div class=\"sk-label-container\"><div class=\"sk-label sk-toggleable\"><input class=\"sk-toggleable__control sk-hidden--visually\" id=\"sk-estimator-id-38\" type=\"checkbox\" ><label for=\"sk-estimator-id-38\" class=\"sk-toggleable__label sk-toggleable__label-arrow\">ohe</label><div class=\"sk-toggleable__content\"><pre>[&#x27;City&#x27;]</pre></div></div></div><div class=\"sk-serial\"><div class=\"sk-item\"><div class=\"sk-estimator sk-toggleable\"><input class=\"sk-toggleable__control sk-hidden--visually\" id=\"sk-estimator-id-39\" type=\"checkbox\" ><label for=\"sk-estimator-id-39\" class=\"sk-toggleable__label sk-toggleable__label-arrow\">OneHotEncoder</label><div class=\"sk-toggleable__content\"><pre>OneHotEncoder()</pre></div></div></div></div></div></div><div class=\"sk-parallel-item\"><div class=\"sk-item\"><div class=\"sk-label-container\"><div class=\"sk-label sk-toggleable\"><input class=\"sk-toggleable__control sk-hidden--visually\" id=\"sk-estimator-id-40\" type=\"checkbox\" ><label for=\"sk-estimator-id-40\" class=\"sk-toggleable__label sk-toggleable__label-arrow\">remainder</label><div class=\"sk-toggleable__content\"><pre>[&#x27;JoiningYear&#x27;, &#x27;JoinIn2018&#x27;, &#x27;Age&#x27;, &#x27;BiningAge&#x27;, &#x27;ExperienceInCurrentDomain&#x27;, &#x27;PaymentTier&#x27;]</pre></div></div></div><div class=\"sk-serial\"><div class=\"sk-item\"><div class=\"sk-estimator sk-toggleable\"><input class=\"sk-toggleable__control sk-hidden--visually\" id=\"sk-estimator-id-41\" type=\"checkbox\" ><label for=\"sk-estimator-id-41\" class=\"sk-toggleable__label sk-toggleable__label-arrow\">passthrough</label><div class=\"sk-toggleable__content\"><pre>passthrough</pre></div></div></div></div></div></div></div></div></div></div><div class=\"sk-item\"><div class=\"sk-estimator sk-toggleable\"><input class=\"sk-toggleable__control sk-hidden--visually\" id=\"sk-estimator-id-42\" type=\"checkbox\" ><label for=\"sk-estimator-id-42\" class=\"sk-toggleable__label sk-toggleable__label-arrow\">FunctionTransformer</label><div class=\"sk-toggleable__content\"><pre>FunctionTransformer(func=&lt;function scaling at 0x000001B7477B7CE0&gt;)</pre></div></div></div></div></div></div></div>"
      ],
      "text/plain": [
       "Pipeline(steps=[('before_scale',\n",
       "                 Pipeline(steps=[('step1',\n",
       "                                  Pipeline(steps=[('imp',\n",
       "                                                   ColumnTransformer(transformers=[('imp_mean',\n",
       "                                                                                    SimpleImputer(),\n",
       "                                                                                    ['JoiningYear',\n",
       "                                                                                     'Age',\n",
       "                                                                                     'ExperienceInCurrentDomain']),\n",
       "                                                                                   ('imp_mode',\n",
       "                                                                                    SimpleImputer(strategy='most_frequent'),\n",
       "                                                                                    ['Education',\n",
       "                                                                                     'City',\n",
       "                                                                                     'PaymentTier',\n",
       "                                                                                     'Gender',\n",
       "                                                                                     'EverBenched'])])),\n",
       "                                                  ('to_df',\n",
       "                                                   FunctionTransformer(func=<function To...\n",
       "                                                   FunctionTransformer(func=<function BiningAge at 0x000001B7477B65C0>))])),\n",
       "                                 ('step3',\n",
       "                                  ColumnTransformer(remainder='passthrough',\n",
       "                                                    transformers=[('enc_edu',\n",
       "                                                                   FunctionTransformer(func=<function EncodeEducation at 0x000001B7477B6200>),\n",
       "                                                                   ['Education']),\n",
       "                                                                  ('oe',\n",
       "                                                                   OrdinalEncoder(),\n",
       "                                                                   ['Gender',\n",
       "                                                                    'EverBenched']),\n",
       "                                                                  ('ohe',\n",
       "                                                                   OneHotEncoder(),\n",
       "                                                                   ['City'])]))])),\n",
       "                ('scale',\n",
       "                 FunctionTransformer(func=<function scaling at 0x000001B7477B7CE0>))])"
      ]
     },
     "execution_count": 28,
     "metadata": {},
     "output_type": "execute_result"
    }
   ],
   "source": [
    "# procesing pipeline\n",
    "processing_pipeline = Pipeline([\n",
    "    ('before_scale', before_scaling),\n",
    "    ('scale', FunctionTransformer(scaling))\n",
    "])\n",
    "processing_pipeline.fit(X_train)"
   ]
  },
  {
   "cell_type": "code",
   "execution_count": 29,
   "id": "73492eb3",
   "metadata": {},
   "outputs": [
    {
     "data": {
      "text/plain": [
       "array([[-0.59029597,  0.87944229, -0.38195186, ...,  0.10142991,\n",
       "        -1.05782027,  0.57607616],\n",
       "       [ 2.88711248,  0.87944229, -0.38195186, ..., -1.26018981,\n",
       "         0.1938207 ,  0.57607616],\n",
       "       [ 1.14840825,  0.87944229, -0.38195186, ..., -1.26018981,\n",
       "        -0.43199979, -1.05564852],\n",
       "       ...,\n",
       "       [-0.59029597,  0.87944229, -0.38195186, ...,  0.10142991,\n",
       "         0.1938207 ,  0.57607616],\n",
       "       [-0.59029597,  0.87944229, -0.38195186, ...,  1.46304963,\n",
       "         0.1938207 ,  0.57607616],\n",
       "       [-0.59029597, -1.13708428, -0.38195186, ...,  0.10142991,\n",
       "         0.81964119, -1.05564852]])"
      ]
     },
     "execution_count": 29,
     "metadata": {},
     "output_type": "execute_result"
    }
   ],
   "source": [
    "# check pipeline\n",
    "X_train_processed = processing_pipeline.transform(X_train)\n",
    "X_train_processed"
   ]
  },
  {
   "cell_type": "markdown",
   "id": "fcac1981",
   "metadata": {},
   "source": [
    "# Modeling"
   ]
  },
  {
   "cell_type": "code",
   "execution_count": 30,
   "id": "29e0c7da",
   "metadata": {},
   "outputs": [
    {
     "data": {
      "text/html": [
       "<style>#sk-container-id-3 {color: black;background-color: white;}#sk-container-id-3 pre{padding: 0;}#sk-container-id-3 div.sk-toggleable {background-color: white;}#sk-container-id-3 label.sk-toggleable__label {cursor: pointer;display: block;width: 100%;margin-bottom: 0;padding: 0.3em;box-sizing: border-box;text-align: center;}#sk-container-id-3 label.sk-toggleable__label-arrow:before {content: \"▸\";float: left;margin-right: 0.25em;color: #696969;}#sk-container-id-3 label.sk-toggleable__label-arrow:hover:before {color: black;}#sk-container-id-3 div.sk-estimator:hover label.sk-toggleable__label-arrow:before {color: black;}#sk-container-id-3 div.sk-toggleable__content {max-height: 0;max-width: 0;overflow: hidden;text-align: left;background-color: #f0f8ff;}#sk-container-id-3 div.sk-toggleable__content pre {margin: 0.2em;color: black;border-radius: 0.25em;background-color: #f0f8ff;}#sk-container-id-3 input.sk-toggleable__control:checked~div.sk-toggleable__content {max-height: 200px;max-width: 100%;overflow: auto;}#sk-container-id-3 input.sk-toggleable__control:checked~label.sk-toggleable__label-arrow:before {content: \"▾\";}#sk-container-id-3 div.sk-estimator input.sk-toggleable__control:checked~label.sk-toggleable__label {background-color: #d4ebff;}#sk-container-id-3 div.sk-label input.sk-toggleable__control:checked~label.sk-toggleable__label {background-color: #d4ebff;}#sk-container-id-3 input.sk-hidden--visually {border: 0;clip: rect(1px 1px 1px 1px);clip: rect(1px, 1px, 1px, 1px);height: 1px;margin: -1px;overflow: hidden;padding: 0;position: absolute;width: 1px;}#sk-container-id-3 div.sk-estimator {font-family: monospace;background-color: #f0f8ff;border: 1px dotted black;border-radius: 0.25em;box-sizing: border-box;margin-bottom: 0.5em;}#sk-container-id-3 div.sk-estimator:hover {background-color: #d4ebff;}#sk-container-id-3 div.sk-parallel-item::after {content: \"\";width: 100%;border-bottom: 1px solid gray;flex-grow: 1;}#sk-container-id-3 div.sk-label:hover label.sk-toggleable__label {background-color: #d4ebff;}#sk-container-id-3 div.sk-serial::before {content: \"\";position: absolute;border-left: 1px solid gray;box-sizing: border-box;top: 0;bottom: 0;left: 50%;z-index: 0;}#sk-container-id-3 div.sk-serial {display: flex;flex-direction: column;align-items: center;background-color: white;padding-right: 0.2em;padding-left: 0.2em;position: relative;}#sk-container-id-3 div.sk-item {position: relative;z-index: 1;}#sk-container-id-3 div.sk-parallel {display: flex;align-items: stretch;justify-content: center;background-color: white;position: relative;}#sk-container-id-3 div.sk-item::before, #sk-container-id-3 div.sk-parallel-item::before {content: \"\";position: absolute;border-left: 1px solid gray;box-sizing: border-box;top: 0;bottom: 0;left: 50%;z-index: -1;}#sk-container-id-3 div.sk-parallel-item {display: flex;flex-direction: column;z-index: 1;position: relative;background-color: white;}#sk-container-id-3 div.sk-parallel-item:first-child::after {align-self: flex-end;width: 50%;}#sk-container-id-3 div.sk-parallel-item:last-child::after {align-self: flex-start;width: 50%;}#sk-container-id-3 div.sk-parallel-item:only-child::after {width: 0;}#sk-container-id-3 div.sk-dashed-wrapped {border: 1px dashed gray;margin: 0 0.4em 0.5em 0.4em;box-sizing: border-box;padding-bottom: 0.4em;background-color: white;}#sk-container-id-3 div.sk-label label {font-family: monospace;font-weight: bold;display: inline-block;line-height: 1.2em;}#sk-container-id-3 div.sk-label-container {text-align: center;}#sk-container-id-3 div.sk-container {/* jupyter's `normalize.less` sets `[hidden] { display: none; }` but bootstrap.min.css set `[hidden] { display: none !important; }` so we also need the `!important` here to be able to override the default hidden behavior on the sphinx rendered scikit-learn.org. See: https://github.com/scikit-learn/scikit-learn/issues/21755 */display: inline-block !important;position: relative;}#sk-container-id-3 div.sk-text-repr-fallback {display: none;}</style><div id=\"sk-container-id-3\" class=\"sk-top-container\"><div class=\"sk-text-repr-fallback\"><pre>Pipeline(steps=[(&#x27;s1&#x27;,\n",
       "                 Pipeline(steps=[(&#x27;imp&#x27;,\n",
       "                                  ColumnTransformer(transformers=[(&#x27;imp_mean&#x27;,\n",
       "                                                                   SimpleImputer(),\n",
       "                                                                   [&#x27;JoiningYear&#x27;,\n",
       "                                                                    &#x27;Age&#x27;,\n",
       "                                                                    &#x27;ExperienceInCurrentDomain&#x27;]),\n",
       "                                                                  (&#x27;imp_mode&#x27;,\n",
       "                                                                   SimpleImputer(strategy=&#x27;most_frequent&#x27;),\n",
       "                                                                   [&#x27;Education&#x27;,\n",
       "                                                                    &#x27;City&#x27;,\n",
       "                                                                    &#x27;PaymentTier&#x27;,\n",
       "                                                                    &#x27;Gender&#x27;,\n",
       "                                                                    &#x27;EverBenched&#x27;])])),\n",
       "                                 (&#x27;to_df&#x27;,\n",
       "                                  FunctionTransformer(func=&lt;function ToDataFrame at 0x000001B7477B60C0&gt;))]))...\n",
       "                (&#x27;s3&#x27;,\n",
       "                 ColumnTransformer(remainder=&#x27;passthrough&#x27;,\n",
       "                                   transformers=[(&#x27;enc_edu&#x27;,\n",
       "                                                  FunctionTransformer(func=&lt;function EncodeEducation at 0x000001B7477B6200&gt;),\n",
       "                                                  [&#x27;Education&#x27;]),\n",
       "                                                 (&#x27;oe&#x27;, OrdinalEncoder(),\n",
       "                                                  [&#x27;Gender&#x27;, &#x27;EverBenched&#x27;]),\n",
       "                                                 (&#x27;ohe&#x27;, OneHotEncoder(),\n",
       "                                                  [&#x27;City&#x27;])])),\n",
       "                (&#x27;scl&#x27;,\n",
       "                 FunctionTransformer(func=&lt;function scaling at 0x000001B7477B7CE0&gt;)),\n",
       "                (&#x27;algo&#x27;, KNeighborsClassifier())])</pre><b>In a Jupyter environment, please rerun this cell to show the HTML representation or trust the notebook. <br />On GitHub, the HTML representation is unable to render, please try loading this page with nbviewer.org.</b></div><div class=\"sk-container\" hidden><div class=\"sk-item sk-dashed-wrapped\"><div class=\"sk-label-container\"><div class=\"sk-label sk-toggleable\"><input class=\"sk-toggleable__control sk-hidden--visually\" id=\"sk-estimator-id-43\" type=\"checkbox\" ><label for=\"sk-estimator-id-43\" class=\"sk-toggleable__label sk-toggleable__label-arrow\">Pipeline</label><div class=\"sk-toggleable__content\"><pre>Pipeline(steps=[(&#x27;s1&#x27;,\n",
       "                 Pipeline(steps=[(&#x27;imp&#x27;,\n",
       "                                  ColumnTransformer(transformers=[(&#x27;imp_mean&#x27;,\n",
       "                                                                   SimpleImputer(),\n",
       "                                                                   [&#x27;JoiningYear&#x27;,\n",
       "                                                                    &#x27;Age&#x27;,\n",
       "                                                                    &#x27;ExperienceInCurrentDomain&#x27;]),\n",
       "                                                                  (&#x27;imp_mode&#x27;,\n",
       "                                                                   SimpleImputer(strategy=&#x27;most_frequent&#x27;),\n",
       "                                                                   [&#x27;Education&#x27;,\n",
       "                                                                    &#x27;City&#x27;,\n",
       "                                                                    &#x27;PaymentTier&#x27;,\n",
       "                                                                    &#x27;Gender&#x27;,\n",
       "                                                                    &#x27;EverBenched&#x27;])])),\n",
       "                                 (&#x27;to_df&#x27;,\n",
       "                                  FunctionTransformer(func=&lt;function ToDataFrame at 0x000001B7477B60C0&gt;))]))...\n",
       "                (&#x27;s3&#x27;,\n",
       "                 ColumnTransformer(remainder=&#x27;passthrough&#x27;,\n",
       "                                   transformers=[(&#x27;enc_edu&#x27;,\n",
       "                                                  FunctionTransformer(func=&lt;function EncodeEducation at 0x000001B7477B6200&gt;),\n",
       "                                                  [&#x27;Education&#x27;]),\n",
       "                                                 (&#x27;oe&#x27;, OrdinalEncoder(),\n",
       "                                                  [&#x27;Gender&#x27;, &#x27;EverBenched&#x27;]),\n",
       "                                                 (&#x27;ohe&#x27;, OneHotEncoder(),\n",
       "                                                  [&#x27;City&#x27;])])),\n",
       "                (&#x27;scl&#x27;,\n",
       "                 FunctionTransformer(func=&lt;function scaling at 0x000001B7477B7CE0&gt;)),\n",
       "                (&#x27;algo&#x27;, KNeighborsClassifier())])</pre></div></div></div><div class=\"sk-serial\"><div class=\"sk-item\"><div class=\"sk-label-container\"><div class=\"sk-label sk-toggleable\"><input class=\"sk-toggleable__control sk-hidden--visually\" id=\"sk-estimator-id-44\" type=\"checkbox\" ><label for=\"sk-estimator-id-44\" class=\"sk-toggleable__label sk-toggleable__label-arrow\">s1: Pipeline</label><div class=\"sk-toggleable__content\"><pre>Pipeline(steps=[(&#x27;imp&#x27;,\n",
       "                 ColumnTransformer(transformers=[(&#x27;imp_mean&#x27;, SimpleImputer(),\n",
       "                                                  [&#x27;JoiningYear&#x27;, &#x27;Age&#x27;,\n",
       "                                                   &#x27;ExperienceInCurrentDomain&#x27;]),\n",
       "                                                 (&#x27;imp_mode&#x27;,\n",
       "                                                  SimpleImputer(strategy=&#x27;most_frequent&#x27;),\n",
       "                                                  [&#x27;Education&#x27;, &#x27;City&#x27;,\n",
       "                                                   &#x27;PaymentTier&#x27;, &#x27;Gender&#x27;,\n",
       "                                                   &#x27;EverBenched&#x27;])])),\n",
       "                (&#x27;to_df&#x27;,\n",
       "                 FunctionTransformer(func=&lt;function ToDataFrame at 0x000001B7477B60C0&gt;))])</pre></div></div></div><div class=\"sk-serial\"><div class=\"sk-item sk-dashed-wrapped\"><div class=\"sk-label-container\"><div class=\"sk-label sk-toggleable\"><input class=\"sk-toggleable__control sk-hidden--visually\" id=\"sk-estimator-id-45\" type=\"checkbox\" ><label for=\"sk-estimator-id-45\" class=\"sk-toggleable__label sk-toggleable__label-arrow\">imp: ColumnTransformer</label><div class=\"sk-toggleable__content\"><pre>ColumnTransformer(transformers=[(&#x27;imp_mean&#x27;, SimpleImputer(),\n",
       "                                 [&#x27;JoiningYear&#x27;, &#x27;Age&#x27;,\n",
       "                                  &#x27;ExperienceInCurrentDomain&#x27;]),\n",
       "                                (&#x27;imp_mode&#x27;,\n",
       "                                 SimpleImputer(strategy=&#x27;most_frequent&#x27;),\n",
       "                                 [&#x27;Education&#x27;, &#x27;City&#x27;, &#x27;PaymentTier&#x27;, &#x27;Gender&#x27;,\n",
       "                                  &#x27;EverBenched&#x27;])])</pre></div></div></div><div class=\"sk-parallel\"><div class=\"sk-parallel-item\"><div class=\"sk-item\"><div class=\"sk-label-container\"><div class=\"sk-label sk-toggleable\"><input class=\"sk-toggleable__control sk-hidden--visually\" id=\"sk-estimator-id-46\" type=\"checkbox\" ><label for=\"sk-estimator-id-46\" class=\"sk-toggleable__label sk-toggleable__label-arrow\">imp_mean</label><div class=\"sk-toggleable__content\"><pre>[&#x27;JoiningYear&#x27;, &#x27;Age&#x27;, &#x27;ExperienceInCurrentDomain&#x27;]</pre></div></div></div><div class=\"sk-serial\"><div class=\"sk-item\"><div class=\"sk-estimator sk-toggleable\"><input class=\"sk-toggleable__control sk-hidden--visually\" id=\"sk-estimator-id-47\" type=\"checkbox\" ><label for=\"sk-estimator-id-47\" class=\"sk-toggleable__label sk-toggleable__label-arrow\">SimpleImputer</label><div class=\"sk-toggleable__content\"><pre>SimpleImputer()</pre></div></div></div></div></div></div><div class=\"sk-parallel-item\"><div class=\"sk-item\"><div class=\"sk-label-container\"><div class=\"sk-label sk-toggleable\"><input class=\"sk-toggleable__control sk-hidden--visually\" id=\"sk-estimator-id-48\" type=\"checkbox\" ><label for=\"sk-estimator-id-48\" class=\"sk-toggleable__label sk-toggleable__label-arrow\">imp_mode</label><div class=\"sk-toggleable__content\"><pre>[&#x27;Education&#x27;, &#x27;City&#x27;, &#x27;PaymentTier&#x27;, &#x27;Gender&#x27;, &#x27;EverBenched&#x27;]</pre></div></div></div><div class=\"sk-serial\"><div class=\"sk-item\"><div class=\"sk-estimator sk-toggleable\"><input class=\"sk-toggleable__control sk-hidden--visually\" id=\"sk-estimator-id-49\" type=\"checkbox\" ><label for=\"sk-estimator-id-49\" class=\"sk-toggleable__label sk-toggleable__label-arrow\">SimpleImputer</label><div class=\"sk-toggleable__content\"><pre>SimpleImputer(strategy=&#x27;most_frequent&#x27;)</pre></div></div></div></div></div></div></div></div><div class=\"sk-item\"><div class=\"sk-estimator sk-toggleable\"><input class=\"sk-toggleable__control sk-hidden--visually\" id=\"sk-estimator-id-50\" type=\"checkbox\" ><label for=\"sk-estimator-id-50\" class=\"sk-toggleable__label sk-toggleable__label-arrow\">FunctionTransformer</label><div class=\"sk-toggleable__content\"><pre>FunctionTransformer(func=&lt;function ToDataFrame at 0x000001B7477B60C0&gt;)</pre></div></div></div></div></div><div class=\"sk-item\"><div class=\"sk-label-container\"><div class=\"sk-label sk-toggleable\"><input class=\"sk-toggleable__control sk-hidden--visually\" id=\"sk-estimator-id-51\" type=\"checkbox\" ><label for=\"sk-estimator-id-51\" class=\"sk-toggleable__label sk-toggleable__label-arrow\">s2: Pipeline</label><div class=\"sk-toggleable__content\"><pre>Pipeline(steps=[(&#x27;adding&#x27;,\n",
       "                 FunctionTransformer(func=&lt;function JoinIn2018 at 0x000001B7477B62A0&gt;)),\n",
       "                (&#x27;bining&#x27;,\n",
       "                 FunctionTransformer(func=&lt;function BiningAge at 0x000001B7477B65C0&gt;))])</pre></div></div></div><div class=\"sk-serial\"><div class=\"sk-item\"><div class=\"sk-estimator sk-toggleable\"><input class=\"sk-toggleable__control sk-hidden--visually\" id=\"sk-estimator-id-52\" type=\"checkbox\" ><label for=\"sk-estimator-id-52\" class=\"sk-toggleable__label sk-toggleable__label-arrow\">FunctionTransformer</label><div class=\"sk-toggleable__content\"><pre>FunctionTransformer(func=&lt;function JoinIn2018 at 0x000001B7477B62A0&gt;)</pre></div></div></div><div class=\"sk-item\"><div class=\"sk-estimator sk-toggleable\"><input class=\"sk-toggleable__control sk-hidden--visually\" id=\"sk-estimator-id-53\" type=\"checkbox\" ><label for=\"sk-estimator-id-53\" class=\"sk-toggleable__label sk-toggleable__label-arrow\">FunctionTransformer</label><div class=\"sk-toggleable__content\"><pre>FunctionTransformer(func=&lt;function BiningAge at 0x000001B7477B65C0&gt;)</pre></div></div></div></div></div><div class=\"sk-item sk-dashed-wrapped\"><div class=\"sk-label-container\"><div class=\"sk-label sk-toggleable\"><input class=\"sk-toggleable__control sk-hidden--visually\" id=\"sk-estimator-id-54\" type=\"checkbox\" ><label for=\"sk-estimator-id-54\" class=\"sk-toggleable__label sk-toggleable__label-arrow\">s3: ColumnTransformer</label><div class=\"sk-toggleable__content\"><pre>ColumnTransformer(remainder=&#x27;passthrough&#x27;,\n",
       "                  transformers=[(&#x27;enc_edu&#x27;,\n",
       "                                 FunctionTransformer(func=&lt;function EncodeEducation at 0x000001B7477B6200&gt;),\n",
       "                                 [&#x27;Education&#x27;]),\n",
       "                                (&#x27;oe&#x27;, OrdinalEncoder(),\n",
       "                                 [&#x27;Gender&#x27;, &#x27;EverBenched&#x27;]),\n",
       "                                (&#x27;ohe&#x27;, OneHotEncoder(), [&#x27;City&#x27;])])</pre></div></div></div><div class=\"sk-parallel\"><div class=\"sk-parallel-item\"><div class=\"sk-item\"><div class=\"sk-label-container\"><div class=\"sk-label sk-toggleable\"><input class=\"sk-toggleable__control sk-hidden--visually\" id=\"sk-estimator-id-55\" type=\"checkbox\" ><label for=\"sk-estimator-id-55\" class=\"sk-toggleable__label sk-toggleable__label-arrow\">enc_edu</label><div class=\"sk-toggleable__content\"><pre>[&#x27;Education&#x27;]</pre></div></div></div><div class=\"sk-serial\"><div class=\"sk-item\"><div class=\"sk-estimator sk-toggleable\"><input class=\"sk-toggleable__control sk-hidden--visually\" id=\"sk-estimator-id-56\" type=\"checkbox\" ><label for=\"sk-estimator-id-56\" class=\"sk-toggleable__label sk-toggleable__label-arrow\">FunctionTransformer</label><div class=\"sk-toggleable__content\"><pre>FunctionTransformer(func=&lt;function EncodeEducation at 0x000001B7477B6200&gt;)</pre></div></div></div></div></div></div><div class=\"sk-parallel-item\"><div class=\"sk-item\"><div class=\"sk-label-container\"><div class=\"sk-label sk-toggleable\"><input class=\"sk-toggleable__control sk-hidden--visually\" id=\"sk-estimator-id-57\" type=\"checkbox\" ><label for=\"sk-estimator-id-57\" class=\"sk-toggleable__label sk-toggleable__label-arrow\">oe</label><div class=\"sk-toggleable__content\"><pre>[&#x27;Gender&#x27;, &#x27;EverBenched&#x27;]</pre></div></div></div><div class=\"sk-serial\"><div class=\"sk-item\"><div class=\"sk-estimator sk-toggleable\"><input class=\"sk-toggleable__control sk-hidden--visually\" id=\"sk-estimator-id-58\" type=\"checkbox\" ><label for=\"sk-estimator-id-58\" class=\"sk-toggleable__label sk-toggleable__label-arrow\">OrdinalEncoder</label><div class=\"sk-toggleable__content\"><pre>OrdinalEncoder()</pre></div></div></div></div></div></div><div class=\"sk-parallel-item\"><div class=\"sk-item\"><div class=\"sk-label-container\"><div class=\"sk-label sk-toggleable\"><input class=\"sk-toggleable__control sk-hidden--visually\" id=\"sk-estimator-id-59\" type=\"checkbox\" ><label for=\"sk-estimator-id-59\" class=\"sk-toggleable__label sk-toggleable__label-arrow\">ohe</label><div class=\"sk-toggleable__content\"><pre>[&#x27;City&#x27;]</pre></div></div></div><div class=\"sk-serial\"><div class=\"sk-item\"><div class=\"sk-estimator sk-toggleable\"><input class=\"sk-toggleable__control sk-hidden--visually\" id=\"sk-estimator-id-60\" type=\"checkbox\" ><label for=\"sk-estimator-id-60\" class=\"sk-toggleable__label sk-toggleable__label-arrow\">OneHotEncoder</label><div class=\"sk-toggleable__content\"><pre>OneHotEncoder()</pre></div></div></div></div></div></div><div class=\"sk-parallel-item\"><div class=\"sk-item\"><div class=\"sk-label-container\"><div class=\"sk-label sk-toggleable\"><input class=\"sk-toggleable__control sk-hidden--visually\" id=\"sk-estimator-id-61\" type=\"checkbox\" ><label for=\"sk-estimator-id-61\" class=\"sk-toggleable__label sk-toggleable__label-arrow\">remainder</label><div class=\"sk-toggleable__content\"><pre>[&#x27;JoiningYear&#x27;, &#x27;JoinIn2018&#x27;, &#x27;Age&#x27;, &#x27;BiningAge&#x27;, &#x27;ExperienceInCurrentDomain&#x27;, &#x27;PaymentTier&#x27;]</pre></div></div></div><div class=\"sk-serial\"><div class=\"sk-item\"><div class=\"sk-estimator sk-toggleable\"><input class=\"sk-toggleable__control sk-hidden--visually\" id=\"sk-estimator-id-62\" type=\"checkbox\" ><label for=\"sk-estimator-id-62\" class=\"sk-toggleable__label sk-toggleable__label-arrow\">passthrough</label><div class=\"sk-toggleable__content\"><pre>passthrough</pre></div></div></div></div></div></div></div></div><div class=\"sk-item\"><div class=\"sk-estimator sk-toggleable\"><input class=\"sk-toggleable__control sk-hidden--visually\" id=\"sk-estimator-id-63\" type=\"checkbox\" ><label for=\"sk-estimator-id-63\" class=\"sk-toggleable__label sk-toggleable__label-arrow\">FunctionTransformer</label><div class=\"sk-toggleable__content\"><pre>FunctionTransformer(func=&lt;function scaling at 0x000001B7477B7CE0&gt;)</pre></div></div></div><div class=\"sk-item\"><div class=\"sk-estimator sk-toggleable\"><input class=\"sk-toggleable__control sk-hidden--visually\" id=\"sk-estimator-id-64\" type=\"checkbox\" ><label for=\"sk-estimator-id-64\" class=\"sk-toggleable__label sk-toggleable__label-arrow\">KNeighborsClassifier</label><div class=\"sk-toggleable__content\"><pre>KNeighborsClassifier()</pre></div></div></div></div></div></div></div>"
      ],
      "text/plain": [
       "Pipeline(steps=[('s1',\n",
       "                 Pipeline(steps=[('imp',\n",
       "                                  ColumnTransformer(transformers=[('imp_mean',\n",
       "                                                                   SimpleImputer(),\n",
       "                                                                   ['JoiningYear',\n",
       "                                                                    'Age',\n",
       "                                                                    'ExperienceInCurrentDomain']),\n",
       "                                                                  ('imp_mode',\n",
       "                                                                   SimpleImputer(strategy='most_frequent'),\n",
       "                                                                   ['Education',\n",
       "                                                                    'City',\n",
       "                                                                    'PaymentTier',\n",
       "                                                                    'Gender',\n",
       "                                                                    'EverBenched'])])),\n",
       "                                 ('to_df',\n",
       "                                  FunctionTransformer(func=<function ToDataFrame at 0x000001B7477B60C0>))]))...\n",
       "                ('s3',\n",
       "                 ColumnTransformer(remainder='passthrough',\n",
       "                                   transformers=[('enc_edu',\n",
       "                                                  FunctionTransformer(func=<function EncodeEducation at 0x000001B7477B6200>),\n",
       "                                                  ['Education']),\n",
       "                                                 ('oe', OrdinalEncoder(),\n",
       "                                                  ['Gender', 'EverBenched']),\n",
       "                                                 ('ohe', OneHotEncoder(),\n",
       "                                                  ['City'])])),\n",
       "                ('scl',\n",
       "                 FunctionTransformer(func=<function scaling at 0x000001B7477B7CE0>)),\n",
       "                ('algo', KNeighborsClassifier())])"
      ]
     },
     "execution_count": 30,
     "metadata": {},
     "output_type": "execute_result"
    }
   ],
   "source": [
    "# import object model\n",
    "\n",
    "# param\n",
    "param_grid = {'scl__kw_args' : [{'scale' : StandardScaler()}, \n",
    "                                {'scale' : MinMaxScaler()}, \n",
    "                                {'scale' : Normalizer(norm='l1')}, \n",
    "                                {'scale' : Normalizer(norm='l2')}],\n",
    "              'algo__n_neighbors' : list(range(1,50,2)),\n",
    "              'algo__algorithm' : ['auto', 'ball_tree', 'kd_tree', 'brute']\n",
    "}\n",
    "\n",
    "# algorithm\n",
    "from sklearn.neighbors import KNeighborsClassifier\n",
    "\n",
    "# pipeline model\n",
    "my_pipeline = Pipeline([\n",
    "    ('s1', step1),\n",
    "    ('s2', step2),\n",
    "    ('s3', step3),\n",
    "    ('scl', FunctionTransformer(scaling)),\n",
    "    ('algo', KNeighborsClassifier())\n",
    "])\n",
    "my_pipeline.fit(X_train, y_train)"
   ]
  },
  {
   "cell_type": "code",
   "execution_count": 31,
   "id": "7fde8aac",
   "metadata": {},
   "outputs": [
    {
     "name": "stdout",
     "output_type": "stream",
     "text": [
      "Fitting 4 folds for each of 400 candidates, totalling 1600 fits\n"
     ]
    },
    {
     "data": {
      "text/html": [
       "<style>#sk-container-id-4 {color: black;background-color: white;}#sk-container-id-4 pre{padding: 0;}#sk-container-id-4 div.sk-toggleable {background-color: white;}#sk-container-id-4 label.sk-toggleable__label {cursor: pointer;display: block;width: 100%;margin-bottom: 0;padding: 0.3em;box-sizing: border-box;text-align: center;}#sk-container-id-4 label.sk-toggleable__label-arrow:before {content: \"▸\";float: left;margin-right: 0.25em;color: #696969;}#sk-container-id-4 label.sk-toggleable__label-arrow:hover:before {color: black;}#sk-container-id-4 div.sk-estimator:hover label.sk-toggleable__label-arrow:before {color: black;}#sk-container-id-4 div.sk-toggleable__content {max-height: 0;max-width: 0;overflow: hidden;text-align: left;background-color: #f0f8ff;}#sk-container-id-4 div.sk-toggleable__content pre {margin: 0.2em;color: black;border-radius: 0.25em;background-color: #f0f8ff;}#sk-container-id-4 input.sk-toggleable__control:checked~div.sk-toggleable__content {max-height: 200px;max-width: 100%;overflow: auto;}#sk-container-id-4 input.sk-toggleable__control:checked~label.sk-toggleable__label-arrow:before {content: \"▾\";}#sk-container-id-4 div.sk-estimator input.sk-toggleable__control:checked~label.sk-toggleable__label {background-color: #d4ebff;}#sk-container-id-4 div.sk-label input.sk-toggleable__control:checked~label.sk-toggleable__label {background-color: #d4ebff;}#sk-container-id-4 input.sk-hidden--visually {border: 0;clip: rect(1px 1px 1px 1px);clip: rect(1px, 1px, 1px, 1px);height: 1px;margin: -1px;overflow: hidden;padding: 0;position: absolute;width: 1px;}#sk-container-id-4 div.sk-estimator {font-family: monospace;background-color: #f0f8ff;border: 1px dotted black;border-radius: 0.25em;box-sizing: border-box;margin-bottom: 0.5em;}#sk-container-id-4 div.sk-estimator:hover {background-color: #d4ebff;}#sk-container-id-4 div.sk-parallel-item::after {content: \"\";width: 100%;border-bottom: 1px solid gray;flex-grow: 1;}#sk-container-id-4 div.sk-label:hover label.sk-toggleable__label {background-color: #d4ebff;}#sk-container-id-4 div.sk-serial::before {content: \"\";position: absolute;border-left: 1px solid gray;box-sizing: border-box;top: 0;bottom: 0;left: 50%;z-index: 0;}#sk-container-id-4 div.sk-serial {display: flex;flex-direction: column;align-items: center;background-color: white;padding-right: 0.2em;padding-left: 0.2em;position: relative;}#sk-container-id-4 div.sk-item {position: relative;z-index: 1;}#sk-container-id-4 div.sk-parallel {display: flex;align-items: stretch;justify-content: center;background-color: white;position: relative;}#sk-container-id-4 div.sk-item::before, #sk-container-id-4 div.sk-parallel-item::before {content: \"\";position: absolute;border-left: 1px solid gray;box-sizing: border-box;top: 0;bottom: 0;left: 50%;z-index: -1;}#sk-container-id-4 div.sk-parallel-item {display: flex;flex-direction: column;z-index: 1;position: relative;background-color: white;}#sk-container-id-4 div.sk-parallel-item:first-child::after {align-self: flex-end;width: 50%;}#sk-container-id-4 div.sk-parallel-item:last-child::after {align-self: flex-start;width: 50%;}#sk-container-id-4 div.sk-parallel-item:only-child::after {width: 0;}#sk-container-id-4 div.sk-dashed-wrapped {border: 1px dashed gray;margin: 0 0.4em 0.5em 0.4em;box-sizing: border-box;padding-bottom: 0.4em;background-color: white;}#sk-container-id-4 div.sk-label label {font-family: monospace;font-weight: bold;display: inline-block;line-height: 1.2em;}#sk-container-id-4 div.sk-label-container {text-align: center;}#sk-container-id-4 div.sk-container {/* jupyter's `normalize.less` sets `[hidden] { display: none; }` but bootstrap.min.css set `[hidden] { display: none !important; }` so we also need the `!important` here to be able to override the default hidden behavior on the sphinx rendered scikit-learn.org. See: https://github.com/scikit-learn/scikit-learn/issues/21755 */display: inline-block !important;position: relative;}#sk-container-id-4 div.sk-text-repr-fallback {display: none;}</style><div id=\"sk-container-id-4\" class=\"sk-top-container\"><div class=\"sk-text-repr-fallback\"><pre>GridSearchCV(cv=4,\n",
       "             estimator=Pipeline(steps=[(&#x27;s1&#x27;,\n",
       "                                        Pipeline(steps=[(&#x27;imp&#x27;,\n",
       "                                                         ColumnTransformer(transformers=[(&#x27;imp_mean&#x27;,\n",
       "                                                                                          SimpleImputer(),\n",
       "                                                                                          [&#x27;JoiningYear&#x27;,\n",
       "                                                                                           &#x27;Age&#x27;,\n",
       "                                                                                           &#x27;ExperienceInCurrentDomain&#x27;]),\n",
       "                                                                                         (&#x27;imp_mode&#x27;,\n",
       "                                                                                          SimpleImputer(strategy=&#x27;most_frequent&#x27;),\n",
       "                                                                                          [&#x27;Education&#x27;,\n",
       "                                                                                           &#x27;City&#x27;,\n",
       "                                                                                           &#x27;PaymentTier&#x27;,\n",
       "                                                                                           &#x27;Gender&#x27;,\n",
       "                                                                                           &#x27;EverBenched&#x27;])])),\n",
       "                                                        (&#x27;to_df&#x27;,\n",
       "                                                         FunctionTransformer(func=&lt;function ToDataFra...\n",
       "                                        FunctionTransformer(func=&lt;function scaling at 0x000001B7477B7CE0&gt;)),\n",
       "                                       (&#x27;algo&#x27;, KNeighborsClassifier())]),\n",
       "             n_jobs=-1,\n",
       "             param_grid={&#x27;algo__algorithm&#x27;: [&#x27;auto&#x27;, &#x27;ball_tree&#x27;, &#x27;kd_tree&#x27;,\n",
       "                                             &#x27;brute&#x27;],\n",
       "                         &#x27;algo__n_neighbors&#x27;: [1, 3, 5, 7, 9, 11, 13, 15, 17,\n",
       "                                               19, 21, 23, 25, 27, 29, 31, 33,\n",
       "                                               35, 37, 39, 41, 43, 45, 47, 49],\n",
       "                         &#x27;scl__kw_args&#x27;: [{&#x27;scale&#x27;: StandardScaler()},\n",
       "                                          {&#x27;scale&#x27;: MinMaxScaler()},\n",
       "                                          {&#x27;scale&#x27;: Normalizer(norm=&#x27;l1&#x27;)},\n",
       "                                          {&#x27;scale&#x27;: Normalizer()}]},\n",
       "             verbose=1)</pre><b>In a Jupyter environment, please rerun this cell to show the HTML representation or trust the notebook. <br />On GitHub, the HTML representation is unable to render, please try loading this page with nbviewer.org.</b></div><div class=\"sk-container\" hidden><div class=\"sk-item sk-dashed-wrapped\"><div class=\"sk-label-container\"><div class=\"sk-label sk-toggleable\"><input class=\"sk-toggleable__control sk-hidden--visually\" id=\"sk-estimator-id-65\" type=\"checkbox\" ><label for=\"sk-estimator-id-65\" class=\"sk-toggleable__label sk-toggleable__label-arrow\">GridSearchCV</label><div class=\"sk-toggleable__content\"><pre>GridSearchCV(cv=4,\n",
       "             estimator=Pipeline(steps=[(&#x27;s1&#x27;,\n",
       "                                        Pipeline(steps=[(&#x27;imp&#x27;,\n",
       "                                                         ColumnTransformer(transformers=[(&#x27;imp_mean&#x27;,\n",
       "                                                                                          SimpleImputer(),\n",
       "                                                                                          [&#x27;JoiningYear&#x27;,\n",
       "                                                                                           &#x27;Age&#x27;,\n",
       "                                                                                           &#x27;ExperienceInCurrentDomain&#x27;]),\n",
       "                                                                                         (&#x27;imp_mode&#x27;,\n",
       "                                                                                          SimpleImputer(strategy=&#x27;most_frequent&#x27;),\n",
       "                                                                                          [&#x27;Education&#x27;,\n",
       "                                                                                           &#x27;City&#x27;,\n",
       "                                                                                           &#x27;PaymentTier&#x27;,\n",
       "                                                                                           &#x27;Gender&#x27;,\n",
       "                                                                                           &#x27;EverBenched&#x27;])])),\n",
       "                                                        (&#x27;to_df&#x27;,\n",
       "                                                         FunctionTransformer(func=&lt;function ToDataFra...\n",
       "                                        FunctionTransformer(func=&lt;function scaling at 0x000001B7477B7CE0&gt;)),\n",
       "                                       (&#x27;algo&#x27;, KNeighborsClassifier())]),\n",
       "             n_jobs=-1,\n",
       "             param_grid={&#x27;algo__algorithm&#x27;: [&#x27;auto&#x27;, &#x27;ball_tree&#x27;, &#x27;kd_tree&#x27;,\n",
       "                                             &#x27;brute&#x27;],\n",
       "                         &#x27;algo__n_neighbors&#x27;: [1, 3, 5, 7, 9, 11, 13, 15, 17,\n",
       "                                               19, 21, 23, 25, 27, 29, 31, 33,\n",
       "                                               35, 37, 39, 41, 43, 45, 47, 49],\n",
       "                         &#x27;scl__kw_args&#x27;: [{&#x27;scale&#x27;: StandardScaler()},\n",
       "                                          {&#x27;scale&#x27;: MinMaxScaler()},\n",
       "                                          {&#x27;scale&#x27;: Normalizer(norm=&#x27;l1&#x27;)},\n",
       "                                          {&#x27;scale&#x27;: Normalizer()}]},\n",
       "             verbose=1)</pre></div></div></div><div class=\"sk-parallel\"><div class=\"sk-parallel-item\"><div class=\"sk-item\"><div class=\"sk-label-container\"><div class=\"sk-label sk-toggleable\"><input class=\"sk-toggleable__control sk-hidden--visually\" id=\"sk-estimator-id-66\" type=\"checkbox\" ><label for=\"sk-estimator-id-66\" class=\"sk-toggleable__label sk-toggleable__label-arrow\">estimator: Pipeline</label><div class=\"sk-toggleable__content\"><pre>Pipeline(steps=[(&#x27;s1&#x27;,\n",
       "                 Pipeline(steps=[(&#x27;imp&#x27;,\n",
       "                                  ColumnTransformer(transformers=[(&#x27;imp_mean&#x27;,\n",
       "                                                                   SimpleImputer(),\n",
       "                                                                   [&#x27;JoiningYear&#x27;,\n",
       "                                                                    &#x27;Age&#x27;,\n",
       "                                                                    &#x27;ExperienceInCurrentDomain&#x27;]),\n",
       "                                                                  (&#x27;imp_mode&#x27;,\n",
       "                                                                   SimpleImputer(strategy=&#x27;most_frequent&#x27;),\n",
       "                                                                   [&#x27;Education&#x27;,\n",
       "                                                                    &#x27;City&#x27;,\n",
       "                                                                    &#x27;PaymentTier&#x27;,\n",
       "                                                                    &#x27;Gender&#x27;,\n",
       "                                                                    &#x27;EverBenched&#x27;])])),\n",
       "                                 (&#x27;to_df&#x27;,\n",
       "                                  FunctionTransformer(func=&lt;function ToDataFrame at 0x000001B7477B60C0&gt;))]))...\n",
       "                (&#x27;s3&#x27;,\n",
       "                 ColumnTransformer(remainder=&#x27;passthrough&#x27;,\n",
       "                                   transformers=[(&#x27;enc_edu&#x27;,\n",
       "                                                  FunctionTransformer(func=&lt;function EncodeEducation at 0x000001B7477B6200&gt;),\n",
       "                                                  [&#x27;Education&#x27;]),\n",
       "                                                 (&#x27;oe&#x27;, OrdinalEncoder(),\n",
       "                                                  [&#x27;Gender&#x27;, &#x27;EverBenched&#x27;]),\n",
       "                                                 (&#x27;ohe&#x27;, OneHotEncoder(),\n",
       "                                                  [&#x27;City&#x27;])])),\n",
       "                (&#x27;scl&#x27;,\n",
       "                 FunctionTransformer(func=&lt;function scaling at 0x000001B7477B7CE0&gt;)),\n",
       "                (&#x27;algo&#x27;, KNeighborsClassifier())])</pre></div></div></div><div class=\"sk-serial\"><div class=\"sk-item\"><div class=\"sk-serial\"><div class=\"sk-item\"><div class=\"sk-label-container\"><div class=\"sk-label sk-toggleable\"><input class=\"sk-toggleable__control sk-hidden--visually\" id=\"sk-estimator-id-67\" type=\"checkbox\" ><label for=\"sk-estimator-id-67\" class=\"sk-toggleable__label sk-toggleable__label-arrow\">s1: Pipeline</label><div class=\"sk-toggleable__content\"><pre>Pipeline(steps=[(&#x27;imp&#x27;,\n",
       "                 ColumnTransformer(transformers=[(&#x27;imp_mean&#x27;, SimpleImputer(),\n",
       "                                                  [&#x27;JoiningYear&#x27;, &#x27;Age&#x27;,\n",
       "                                                   &#x27;ExperienceInCurrentDomain&#x27;]),\n",
       "                                                 (&#x27;imp_mode&#x27;,\n",
       "                                                  SimpleImputer(strategy=&#x27;most_frequent&#x27;),\n",
       "                                                  [&#x27;Education&#x27;, &#x27;City&#x27;,\n",
       "                                                   &#x27;PaymentTier&#x27;, &#x27;Gender&#x27;,\n",
       "                                                   &#x27;EverBenched&#x27;])])),\n",
       "                (&#x27;to_df&#x27;,\n",
       "                 FunctionTransformer(func=&lt;function ToDataFrame at 0x000001B7477B60C0&gt;))])</pre></div></div></div><div class=\"sk-serial\"><div class=\"sk-item sk-dashed-wrapped\"><div class=\"sk-label-container\"><div class=\"sk-label sk-toggleable\"><input class=\"sk-toggleable__control sk-hidden--visually\" id=\"sk-estimator-id-68\" type=\"checkbox\" ><label for=\"sk-estimator-id-68\" class=\"sk-toggleable__label sk-toggleable__label-arrow\">imp: ColumnTransformer</label><div class=\"sk-toggleable__content\"><pre>ColumnTransformer(transformers=[(&#x27;imp_mean&#x27;, SimpleImputer(),\n",
       "                                 [&#x27;JoiningYear&#x27;, &#x27;Age&#x27;,\n",
       "                                  &#x27;ExperienceInCurrentDomain&#x27;]),\n",
       "                                (&#x27;imp_mode&#x27;,\n",
       "                                 SimpleImputer(strategy=&#x27;most_frequent&#x27;),\n",
       "                                 [&#x27;Education&#x27;, &#x27;City&#x27;, &#x27;PaymentTier&#x27;, &#x27;Gender&#x27;,\n",
       "                                  &#x27;EverBenched&#x27;])])</pre></div></div></div><div class=\"sk-parallel\"><div class=\"sk-parallel-item\"><div class=\"sk-item\"><div class=\"sk-label-container\"><div class=\"sk-label sk-toggleable\"><input class=\"sk-toggleable__control sk-hidden--visually\" id=\"sk-estimator-id-69\" type=\"checkbox\" ><label for=\"sk-estimator-id-69\" class=\"sk-toggleable__label sk-toggleable__label-arrow\">imp_mean</label><div class=\"sk-toggleable__content\"><pre>[&#x27;JoiningYear&#x27;, &#x27;Age&#x27;, &#x27;ExperienceInCurrentDomain&#x27;]</pre></div></div></div><div class=\"sk-serial\"><div class=\"sk-item\"><div class=\"sk-estimator sk-toggleable\"><input class=\"sk-toggleable__control sk-hidden--visually\" id=\"sk-estimator-id-70\" type=\"checkbox\" ><label for=\"sk-estimator-id-70\" class=\"sk-toggleable__label sk-toggleable__label-arrow\">SimpleImputer</label><div class=\"sk-toggleable__content\"><pre>SimpleImputer()</pre></div></div></div></div></div></div><div class=\"sk-parallel-item\"><div class=\"sk-item\"><div class=\"sk-label-container\"><div class=\"sk-label sk-toggleable\"><input class=\"sk-toggleable__control sk-hidden--visually\" id=\"sk-estimator-id-71\" type=\"checkbox\" ><label for=\"sk-estimator-id-71\" class=\"sk-toggleable__label sk-toggleable__label-arrow\">imp_mode</label><div class=\"sk-toggleable__content\"><pre>[&#x27;Education&#x27;, &#x27;City&#x27;, &#x27;PaymentTier&#x27;, &#x27;Gender&#x27;, &#x27;EverBenched&#x27;]</pre></div></div></div><div class=\"sk-serial\"><div class=\"sk-item\"><div class=\"sk-estimator sk-toggleable\"><input class=\"sk-toggleable__control sk-hidden--visually\" id=\"sk-estimator-id-72\" type=\"checkbox\" ><label for=\"sk-estimator-id-72\" class=\"sk-toggleable__label sk-toggleable__label-arrow\">SimpleImputer</label><div class=\"sk-toggleable__content\"><pre>SimpleImputer(strategy=&#x27;most_frequent&#x27;)</pre></div></div></div></div></div></div></div></div><div class=\"sk-item\"><div class=\"sk-estimator sk-toggleable\"><input class=\"sk-toggleable__control sk-hidden--visually\" id=\"sk-estimator-id-73\" type=\"checkbox\" ><label for=\"sk-estimator-id-73\" class=\"sk-toggleable__label sk-toggleable__label-arrow\">FunctionTransformer</label><div class=\"sk-toggleable__content\"><pre>FunctionTransformer(func=&lt;function ToDataFrame at 0x000001B7477B60C0&gt;)</pre></div></div></div></div></div><div class=\"sk-item\"><div class=\"sk-label-container\"><div class=\"sk-label sk-toggleable\"><input class=\"sk-toggleable__control sk-hidden--visually\" id=\"sk-estimator-id-74\" type=\"checkbox\" ><label for=\"sk-estimator-id-74\" class=\"sk-toggleable__label sk-toggleable__label-arrow\">s2: Pipeline</label><div class=\"sk-toggleable__content\"><pre>Pipeline(steps=[(&#x27;adding&#x27;,\n",
       "                 FunctionTransformer(func=&lt;function JoinIn2018 at 0x000001B7477B62A0&gt;)),\n",
       "                (&#x27;bining&#x27;,\n",
       "                 FunctionTransformer(func=&lt;function BiningAge at 0x000001B7477B65C0&gt;))])</pre></div></div></div><div class=\"sk-serial\"><div class=\"sk-item\"><div class=\"sk-estimator sk-toggleable\"><input class=\"sk-toggleable__control sk-hidden--visually\" id=\"sk-estimator-id-75\" type=\"checkbox\" ><label for=\"sk-estimator-id-75\" class=\"sk-toggleable__label sk-toggleable__label-arrow\">FunctionTransformer</label><div class=\"sk-toggleable__content\"><pre>FunctionTransformer(func=&lt;function JoinIn2018 at 0x000001B7477B62A0&gt;)</pre></div></div></div><div class=\"sk-item\"><div class=\"sk-estimator sk-toggleable\"><input class=\"sk-toggleable__control sk-hidden--visually\" id=\"sk-estimator-id-76\" type=\"checkbox\" ><label for=\"sk-estimator-id-76\" class=\"sk-toggleable__label sk-toggleable__label-arrow\">FunctionTransformer</label><div class=\"sk-toggleable__content\"><pre>FunctionTransformer(func=&lt;function BiningAge at 0x000001B7477B65C0&gt;)</pre></div></div></div></div></div><div class=\"sk-item sk-dashed-wrapped\"><div class=\"sk-label-container\"><div class=\"sk-label sk-toggleable\"><input class=\"sk-toggleable__control sk-hidden--visually\" id=\"sk-estimator-id-77\" type=\"checkbox\" ><label for=\"sk-estimator-id-77\" class=\"sk-toggleable__label sk-toggleable__label-arrow\">s3: ColumnTransformer</label><div class=\"sk-toggleable__content\"><pre>ColumnTransformer(remainder=&#x27;passthrough&#x27;,\n",
       "                  transformers=[(&#x27;enc_edu&#x27;,\n",
       "                                 FunctionTransformer(func=&lt;function EncodeEducation at 0x000001B7477B6200&gt;),\n",
       "                                 [&#x27;Education&#x27;]),\n",
       "                                (&#x27;oe&#x27;, OrdinalEncoder(),\n",
       "                                 [&#x27;Gender&#x27;, &#x27;EverBenched&#x27;]),\n",
       "                                (&#x27;ohe&#x27;, OneHotEncoder(), [&#x27;City&#x27;])])</pre></div></div></div><div class=\"sk-parallel\"><div class=\"sk-parallel-item\"><div class=\"sk-item\"><div class=\"sk-label-container\"><div class=\"sk-label sk-toggleable\"><input class=\"sk-toggleable__control sk-hidden--visually\" id=\"sk-estimator-id-78\" type=\"checkbox\" ><label for=\"sk-estimator-id-78\" class=\"sk-toggleable__label sk-toggleable__label-arrow\">enc_edu</label><div class=\"sk-toggleable__content\"><pre>[&#x27;Education&#x27;]</pre></div></div></div><div class=\"sk-serial\"><div class=\"sk-item\"><div class=\"sk-estimator sk-toggleable\"><input class=\"sk-toggleable__control sk-hidden--visually\" id=\"sk-estimator-id-79\" type=\"checkbox\" ><label for=\"sk-estimator-id-79\" class=\"sk-toggleable__label sk-toggleable__label-arrow\">FunctionTransformer</label><div class=\"sk-toggleable__content\"><pre>FunctionTransformer(func=&lt;function EncodeEducation at 0x000001B7477B6200&gt;)</pre></div></div></div></div></div></div><div class=\"sk-parallel-item\"><div class=\"sk-item\"><div class=\"sk-label-container\"><div class=\"sk-label sk-toggleable\"><input class=\"sk-toggleable__control sk-hidden--visually\" id=\"sk-estimator-id-80\" type=\"checkbox\" ><label for=\"sk-estimator-id-80\" class=\"sk-toggleable__label sk-toggleable__label-arrow\">oe</label><div class=\"sk-toggleable__content\"><pre>[&#x27;Gender&#x27;, &#x27;EverBenched&#x27;]</pre></div></div></div><div class=\"sk-serial\"><div class=\"sk-item\"><div class=\"sk-estimator sk-toggleable\"><input class=\"sk-toggleable__control sk-hidden--visually\" id=\"sk-estimator-id-81\" type=\"checkbox\" ><label for=\"sk-estimator-id-81\" class=\"sk-toggleable__label sk-toggleable__label-arrow\">OrdinalEncoder</label><div class=\"sk-toggleable__content\"><pre>OrdinalEncoder()</pre></div></div></div></div></div></div><div class=\"sk-parallel-item\"><div class=\"sk-item\"><div class=\"sk-label-container\"><div class=\"sk-label sk-toggleable\"><input class=\"sk-toggleable__control sk-hidden--visually\" id=\"sk-estimator-id-82\" type=\"checkbox\" ><label for=\"sk-estimator-id-82\" class=\"sk-toggleable__label sk-toggleable__label-arrow\">ohe</label><div class=\"sk-toggleable__content\"><pre>[&#x27;City&#x27;]</pre></div></div></div><div class=\"sk-serial\"><div class=\"sk-item\"><div class=\"sk-estimator sk-toggleable\"><input class=\"sk-toggleable__control sk-hidden--visually\" id=\"sk-estimator-id-83\" type=\"checkbox\" ><label for=\"sk-estimator-id-83\" class=\"sk-toggleable__label sk-toggleable__label-arrow\">OneHotEncoder</label><div class=\"sk-toggleable__content\"><pre>OneHotEncoder()</pre></div></div></div></div></div></div><div class=\"sk-parallel-item\"><div class=\"sk-item\"><div class=\"sk-label-container\"><div class=\"sk-label sk-toggleable\"><input class=\"sk-toggleable__control sk-hidden--visually\" id=\"sk-estimator-id-84\" type=\"checkbox\" ><label for=\"sk-estimator-id-84\" class=\"sk-toggleable__label sk-toggleable__label-arrow\">remainder</label><div class=\"sk-toggleable__content\"><pre>[&#x27;JoiningYear&#x27;, &#x27;JoinIn2018&#x27;, &#x27;Age&#x27;, &#x27;BiningAge&#x27;, &#x27;ExperienceInCurrentDomain&#x27;, &#x27;PaymentTier&#x27;]</pre></div></div></div><div class=\"sk-serial\"><div class=\"sk-item\"><div class=\"sk-estimator sk-toggleable\"><input class=\"sk-toggleable__control sk-hidden--visually\" id=\"sk-estimator-id-85\" type=\"checkbox\" ><label for=\"sk-estimator-id-85\" class=\"sk-toggleable__label sk-toggleable__label-arrow\">passthrough</label><div class=\"sk-toggleable__content\"><pre>passthrough</pre></div></div></div></div></div></div></div></div><div class=\"sk-item\"><div class=\"sk-estimator sk-toggleable\"><input class=\"sk-toggleable__control sk-hidden--visually\" id=\"sk-estimator-id-86\" type=\"checkbox\" ><label for=\"sk-estimator-id-86\" class=\"sk-toggleable__label sk-toggleable__label-arrow\">FunctionTransformer</label><div class=\"sk-toggleable__content\"><pre>FunctionTransformer(func=&lt;function scaling at 0x000001B7477B7CE0&gt;)</pre></div></div></div><div class=\"sk-item\"><div class=\"sk-estimator sk-toggleable\"><input class=\"sk-toggleable__control sk-hidden--visually\" id=\"sk-estimator-id-87\" type=\"checkbox\" ><label for=\"sk-estimator-id-87\" class=\"sk-toggleable__label sk-toggleable__label-arrow\">KNeighborsClassifier</label><div class=\"sk-toggleable__content\"><pre>KNeighborsClassifier()</pre></div></div></div></div></div></div></div></div></div></div></div></div>"
      ],
      "text/plain": [
       "GridSearchCV(cv=4,\n",
       "             estimator=Pipeline(steps=[('s1',\n",
       "                                        Pipeline(steps=[('imp',\n",
       "                                                         ColumnTransformer(transformers=[('imp_mean',\n",
       "                                                                                          SimpleImputer(),\n",
       "                                                                                          ['JoiningYear',\n",
       "                                                                                           'Age',\n",
       "                                                                                           'ExperienceInCurrentDomain']),\n",
       "                                                                                         ('imp_mode',\n",
       "                                                                                          SimpleImputer(strategy='most_frequent'),\n",
       "                                                                                          ['Education',\n",
       "                                                                                           'City',\n",
       "                                                                                           'PaymentTier',\n",
       "                                                                                           'Gender',\n",
       "                                                                                           'EverBenched'])])),\n",
       "                                                        ('to_df',\n",
       "                                                         FunctionTransformer(func=<function ToDataFra...\n",
       "                                        FunctionTransformer(func=<function scaling at 0x000001B7477B7CE0>)),\n",
       "                                       ('algo', KNeighborsClassifier())]),\n",
       "             n_jobs=-1,\n",
       "             param_grid={'algo__algorithm': ['auto', 'ball_tree', 'kd_tree',\n",
       "                                             'brute'],\n",
       "                         'algo__n_neighbors': [1, 3, 5, 7, 9, 11, 13, 15, 17,\n",
       "                                               19, 21, 23, 25, 27, 29, 31, 33,\n",
       "                                               35, 37, 39, 41, 43, 45, 47, 49],\n",
       "                         'scl__kw_args': [{'scale': StandardScaler()},\n",
       "                                          {'scale': MinMaxScaler()},\n",
       "                                          {'scale': Normalizer(norm='l1')},\n",
       "                                          {'scale': Normalizer()}]},\n",
       "             verbose=1)"
      ]
     },
     "execution_count": 31,
     "metadata": {},
     "output_type": "execute_result"
    }
   ],
   "source": [
    "# tuning model\n",
    "from sklearn.model_selection import GridSearchCV\n",
    "model = GridSearchCV(my_pipeline, param_grid=param_grid, cv=4, n_jobs=-1, verbose=1)\n",
    "model.fit(X_train, y_train)"
   ]
  },
  {
   "cell_type": "code",
   "execution_count": 32,
   "id": "566ffefc",
   "metadata": {},
   "outputs": [
    {
     "data": {
      "text/plain": [
       "0.775158962273389"
      ]
     },
     "execution_count": 32,
     "metadata": {},
     "output_type": "execute_result"
    }
   ],
   "source": [
    "# best score\n",
    "model.best_score_"
   ]
  },
  {
   "cell_type": "code",
   "execution_count": 33,
   "id": "f002278a",
   "metadata": {},
   "outputs": [
    {
     "data": {
      "text/html": [
       "<style>#sk-container-id-5 {color: black;background-color: white;}#sk-container-id-5 pre{padding: 0;}#sk-container-id-5 div.sk-toggleable {background-color: white;}#sk-container-id-5 label.sk-toggleable__label {cursor: pointer;display: block;width: 100%;margin-bottom: 0;padding: 0.3em;box-sizing: border-box;text-align: center;}#sk-container-id-5 label.sk-toggleable__label-arrow:before {content: \"▸\";float: left;margin-right: 0.25em;color: #696969;}#sk-container-id-5 label.sk-toggleable__label-arrow:hover:before {color: black;}#sk-container-id-5 div.sk-estimator:hover label.sk-toggleable__label-arrow:before {color: black;}#sk-container-id-5 div.sk-toggleable__content {max-height: 0;max-width: 0;overflow: hidden;text-align: left;background-color: #f0f8ff;}#sk-container-id-5 div.sk-toggleable__content pre {margin: 0.2em;color: black;border-radius: 0.25em;background-color: #f0f8ff;}#sk-container-id-5 input.sk-toggleable__control:checked~div.sk-toggleable__content {max-height: 200px;max-width: 100%;overflow: auto;}#sk-container-id-5 input.sk-toggleable__control:checked~label.sk-toggleable__label-arrow:before {content: \"▾\";}#sk-container-id-5 div.sk-estimator input.sk-toggleable__control:checked~label.sk-toggleable__label {background-color: #d4ebff;}#sk-container-id-5 div.sk-label input.sk-toggleable__control:checked~label.sk-toggleable__label {background-color: #d4ebff;}#sk-container-id-5 input.sk-hidden--visually {border: 0;clip: rect(1px 1px 1px 1px);clip: rect(1px, 1px, 1px, 1px);height: 1px;margin: -1px;overflow: hidden;padding: 0;position: absolute;width: 1px;}#sk-container-id-5 div.sk-estimator {font-family: monospace;background-color: #f0f8ff;border: 1px dotted black;border-radius: 0.25em;box-sizing: border-box;margin-bottom: 0.5em;}#sk-container-id-5 div.sk-estimator:hover {background-color: #d4ebff;}#sk-container-id-5 div.sk-parallel-item::after {content: \"\";width: 100%;border-bottom: 1px solid gray;flex-grow: 1;}#sk-container-id-5 div.sk-label:hover label.sk-toggleable__label {background-color: #d4ebff;}#sk-container-id-5 div.sk-serial::before {content: \"\";position: absolute;border-left: 1px solid gray;box-sizing: border-box;top: 0;bottom: 0;left: 50%;z-index: 0;}#sk-container-id-5 div.sk-serial {display: flex;flex-direction: column;align-items: center;background-color: white;padding-right: 0.2em;padding-left: 0.2em;position: relative;}#sk-container-id-5 div.sk-item {position: relative;z-index: 1;}#sk-container-id-5 div.sk-parallel {display: flex;align-items: stretch;justify-content: center;background-color: white;position: relative;}#sk-container-id-5 div.sk-item::before, #sk-container-id-5 div.sk-parallel-item::before {content: \"\";position: absolute;border-left: 1px solid gray;box-sizing: border-box;top: 0;bottom: 0;left: 50%;z-index: -1;}#sk-container-id-5 div.sk-parallel-item {display: flex;flex-direction: column;z-index: 1;position: relative;background-color: white;}#sk-container-id-5 div.sk-parallel-item:first-child::after {align-self: flex-end;width: 50%;}#sk-container-id-5 div.sk-parallel-item:last-child::after {align-self: flex-start;width: 50%;}#sk-container-id-5 div.sk-parallel-item:only-child::after {width: 0;}#sk-container-id-5 div.sk-dashed-wrapped {border: 1px dashed gray;margin: 0 0.4em 0.5em 0.4em;box-sizing: border-box;padding-bottom: 0.4em;background-color: white;}#sk-container-id-5 div.sk-label label {font-family: monospace;font-weight: bold;display: inline-block;line-height: 1.2em;}#sk-container-id-5 div.sk-label-container {text-align: center;}#sk-container-id-5 div.sk-container {/* jupyter's `normalize.less` sets `[hidden] { display: none; }` but bootstrap.min.css set `[hidden] { display: none !important; }` so we also need the `!important` here to be able to override the default hidden behavior on the sphinx rendered scikit-learn.org. See: https://github.com/scikit-learn/scikit-learn/issues/21755 */display: inline-block !important;position: relative;}#sk-container-id-5 div.sk-text-repr-fallback {display: none;}</style><div id=\"sk-container-id-5\" class=\"sk-top-container\"><div class=\"sk-text-repr-fallback\"><pre>Pipeline(steps=[(&#x27;s1&#x27;,\n",
       "                 Pipeline(steps=[(&#x27;imp&#x27;,\n",
       "                                  ColumnTransformer(transformers=[(&#x27;imp_mean&#x27;,\n",
       "                                                                   SimpleImputer(),\n",
       "                                                                   [&#x27;JoiningYear&#x27;,\n",
       "                                                                    &#x27;Age&#x27;,\n",
       "                                                                    &#x27;ExperienceInCurrentDomain&#x27;]),\n",
       "                                                                  (&#x27;imp_mode&#x27;,\n",
       "                                                                   SimpleImputer(strategy=&#x27;most_frequent&#x27;),\n",
       "                                                                   [&#x27;Education&#x27;,\n",
       "                                                                    &#x27;City&#x27;,\n",
       "                                                                    &#x27;PaymentTier&#x27;,\n",
       "                                                                    &#x27;Gender&#x27;,\n",
       "                                                                    &#x27;EverBenched&#x27;])])),\n",
       "                                 (&#x27;to_df&#x27;,\n",
       "                                  FunctionTransformer(func=&lt;function ToDataFrame at 0x000001B7477B60C0&gt;))]))...\n",
       "                                   transformers=[(&#x27;enc_edu&#x27;,\n",
       "                                                  FunctionTransformer(func=&lt;function EncodeEducation at 0x000001B7477B6200&gt;),\n",
       "                                                  [&#x27;Education&#x27;]),\n",
       "                                                 (&#x27;oe&#x27;, OrdinalEncoder(),\n",
       "                                                  [&#x27;Gender&#x27;, &#x27;EverBenched&#x27;]),\n",
       "                                                 (&#x27;ohe&#x27;, OneHotEncoder(),\n",
       "                                                  [&#x27;City&#x27;])])),\n",
       "                (&#x27;scl&#x27;,\n",
       "                 FunctionTransformer(func=&lt;function scaling at 0x000001B7477B7CE0&gt;,\n",
       "                                     kw_args={&#x27;scale&#x27;: StandardScaler()})),\n",
       "                (&#x27;algo&#x27;,\n",
       "                 KNeighborsClassifier(algorithm=&#x27;ball_tree&#x27;, n_neighbors=11))])</pre><b>In a Jupyter environment, please rerun this cell to show the HTML representation or trust the notebook. <br />On GitHub, the HTML representation is unable to render, please try loading this page with nbviewer.org.</b></div><div class=\"sk-container\" hidden><div class=\"sk-item sk-dashed-wrapped\"><div class=\"sk-label-container\"><div class=\"sk-label sk-toggleable\"><input class=\"sk-toggleable__control sk-hidden--visually\" id=\"sk-estimator-id-88\" type=\"checkbox\" ><label for=\"sk-estimator-id-88\" class=\"sk-toggleable__label sk-toggleable__label-arrow\">Pipeline</label><div class=\"sk-toggleable__content\"><pre>Pipeline(steps=[(&#x27;s1&#x27;,\n",
       "                 Pipeline(steps=[(&#x27;imp&#x27;,\n",
       "                                  ColumnTransformer(transformers=[(&#x27;imp_mean&#x27;,\n",
       "                                                                   SimpleImputer(),\n",
       "                                                                   [&#x27;JoiningYear&#x27;,\n",
       "                                                                    &#x27;Age&#x27;,\n",
       "                                                                    &#x27;ExperienceInCurrentDomain&#x27;]),\n",
       "                                                                  (&#x27;imp_mode&#x27;,\n",
       "                                                                   SimpleImputer(strategy=&#x27;most_frequent&#x27;),\n",
       "                                                                   [&#x27;Education&#x27;,\n",
       "                                                                    &#x27;City&#x27;,\n",
       "                                                                    &#x27;PaymentTier&#x27;,\n",
       "                                                                    &#x27;Gender&#x27;,\n",
       "                                                                    &#x27;EverBenched&#x27;])])),\n",
       "                                 (&#x27;to_df&#x27;,\n",
       "                                  FunctionTransformer(func=&lt;function ToDataFrame at 0x000001B7477B60C0&gt;))]))...\n",
       "                                   transformers=[(&#x27;enc_edu&#x27;,\n",
       "                                                  FunctionTransformer(func=&lt;function EncodeEducation at 0x000001B7477B6200&gt;),\n",
       "                                                  [&#x27;Education&#x27;]),\n",
       "                                                 (&#x27;oe&#x27;, OrdinalEncoder(),\n",
       "                                                  [&#x27;Gender&#x27;, &#x27;EverBenched&#x27;]),\n",
       "                                                 (&#x27;ohe&#x27;, OneHotEncoder(),\n",
       "                                                  [&#x27;City&#x27;])])),\n",
       "                (&#x27;scl&#x27;,\n",
       "                 FunctionTransformer(func=&lt;function scaling at 0x000001B7477B7CE0&gt;,\n",
       "                                     kw_args={&#x27;scale&#x27;: StandardScaler()})),\n",
       "                (&#x27;algo&#x27;,\n",
       "                 KNeighborsClassifier(algorithm=&#x27;ball_tree&#x27;, n_neighbors=11))])</pre></div></div></div><div class=\"sk-serial\"><div class=\"sk-item\"><div class=\"sk-label-container\"><div class=\"sk-label sk-toggleable\"><input class=\"sk-toggleable__control sk-hidden--visually\" id=\"sk-estimator-id-89\" type=\"checkbox\" ><label for=\"sk-estimator-id-89\" class=\"sk-toggleable__label sk-toggleable__label-arrow\">s1: Pipeline</label><div class=\"sk-toggleable__content\"><pre>Pipeline(steps=[(&#x27;imp&#x27;,\n",
       "                 ColumnTransformer(transformers=[(&#x27;imp_mean&#x27;, SimpleImputer(),\n",
       "                                                  [&#x27;JoiningYear&#x27;, &#x27;Age&#x27;,\n",
       "                                                   &#x27;ExperienceInCurrentDomain&#x27;]),\n",
       "                                                 (&#x27;imp_mode&#x27;,\n",
       "                                                  SimpleImputer(strategy=&#x27;most_frequent&#x27;),\n",
       "                                                  [&#x27;Education&#x27;, &#x27;City&#x27;,\n",
       "                                                   &#x27;PaymentTier&#x27;, &#x27;Gender&#x27;,\n",
       "                                                   &#x27;EverBenched&#x27;])])),\n",
       "                (&#x27;to_df&#x27;,\n",
       "                 FunctionTransformer(func=&lt;function ToDataFrame at 0x000001B7477B60C0&gt;))])</pre></div></div></div><div class=\"sk-serial\"><div class=\"sk-item sk-dashed-wrapped\"><div class=\"sk-label-container\"><div class=\"sk-label sk-toggleable\"><input class=\"sk-toggleable__control sk-hidden--visually\" id=\"sk-estimator-id-90\" type=\"checkbox\" ><label for=\"sk-estimator-id-90\" class=\"sk-toggleable__label sk-toggleable__label-arrow\">imp: ColumnTransformer</label><div class=\"sk-toggleable__content\"><pre>ColumnTransformer(transformers=[(&#x27;imp_mean&#x27;, SimpleImputer(),\n",
       "                                 [&#x27;JoiningYear&#x27;, &#x27;Age&#x27;,\n",
       "                                  &#x27;ExperienceInCurrentDomain&#x27;]),\n",
       "                                (&#x27;imp_mode&#x27;,\n",
       "                                 SimpleImputer(strategy=&#x27;most_frequent&#x27;),\n",
       "                                 [&#x27;Education&#x27;, &#x27;City&#x27;, &#x27;PaymentTier&#x27;, &#x27;Gender&#x27;,\n",
       "                                  &#x27;EverBenched&#x27;])])</pre></div></div></div><div class=\"sk-parallel\"><div class=\"sk-parallel-item\"><div class=\"sk-item\"><div class=\"sk-label-container\"><div class=\"sk-label sk-toggleable\"><input class=\"sk-toggleable__control sk-hidden--visually\" id=\"sk-estimator-id-91\" type=\"checkbox\" ><label for=\"sk-estimator-id-91\" class=\"sk-toggleable__label sk-toggleable__label-arrow\">imp_mean</label><div class=\"sk-toggleable__content\"><pre>[&#x27;JoiningYear&#x27;, &#x27;Age&#x27;, &#x27;ExperienceInCurrentDomain&#x27;]</pre></div></div></div><div class=\"sk-serial\"><div class=\"sk-item\"><div class=\"sk-estimator sk-toggleable\"><input class=\"sk-toggleable__control sk-hidden--visually\" id=\"sk-estimator-id-92\" type=\"checkbox\" ><label for=\"sk-estimator-id-92\" class=\"sk-toggleable__label sk-toggleable__label-arrow\">SimpleImputer</label><div class=\"sk-toggleable__content\"><pre>SimpleImputer()</pre></div></div></div></div></div></div><div class=\"sk-parallel-item\"><div class=\"sk-item\"><div class=\"sk-label-container\"><div class=\"sk-label sk-toggleable\"><input class=\"sk-toggleable__control sk-hidden--visually\" id=\"sk-estimator-id-93\" type=\"checkbox\" ><label for=\"sk-estimator-id-93\" class=\"sk-toggleable__label sk-toggleable__label-arrow\">imp_mode</label><div class=\"sk-toggleable__content\"><pre>[&#x27;Education&#x27;, &#x27;City&#x27;, &#x27;PaymentTier&#x27;, &#x27;Gender&#x27;, &#x27;EverBenched&#x27;]</pre></div></div></div><div class=\"sk-serial\"><div class=\"sk-item\"><div class=\"sk-estimator sk-toggleable\"><input class=\"sk-toggleable__control sk-hidden--visually\" id=\"sk-estimator-id-94\" type=\"checkbox\" ><label for=\"sk-estimator-id-94\" class=\"sk-toggleable__label sk-toggleable__label-arrow\">SimpleImputer</label><div class=\"sk-toggleable__content\"><pre>SimpleImputer(strategy=&#x27;most_frequent&#x27;)</pre></div></div></div></div></div></div></div></div><div class=\"sk-item\"><div class=\"sk-estimator sk-toggleable\"><input class=\"sk-toggleable__control sk-hidden--visually\" id=\"sk-estimator-id-95\" type=\"checkbox\" ><label for=\"sk-estimator-id-95\" class=\"sk-toggleable__label sk-toggleable__label-arrow\">FunctionTransformer</label><div class=\"sk-toggleable__content\"><pre>FunctionTransformer(func=&lt;function ToDataFrame at 0x000001B7477B60C0&gt;)</pre></div></div></div></div></div><div class=\"sk-item\"><div class=\"sk-label-container\"><div class=\"sk-label sk-toggleable\"><input class=\"sk-toggleable__control sk-hidden--visually\" id=\"sk-estimator-id-96\" type=\"checkbox\" ><label for=\"sk-estimator-id-96\" class=\"sk-toggleable__label sk-toggleable__label-arrow\">s2: Pipeline</label><div class=\"sk-toggleable__content\"><pre>Pipeline(steps=[(&#x27;adding&#x27;,\n",
       "                 FunctionTransformer(func=&lt;function JoinIn2018 at 0x000001B7477B62A0&gt;)),\n",
       "                (&#x27;bining&#x27;,\n",
       "                 FunctionTransformer(func=&lt;function BiningAge at 0x000001B7477B65C0&gt;))])</pre></div></div></div><div class=\"sk-serial\"><div class=\"sk-item\"><div class=\"sk-estimator sk-toggleable\"><input class=\"sk-toggleable__control sk-hidden--visually\" id=\"sk-estimator-id-97\" type=\"checkbox\" ><label for=\"sk-estimator-id-97\" class=\"sk-toggleable__label sk-toggleable__label-arrow\">FunctionTransformer</label><div class=\"sk-toggleable__content\"><pre>FunctionTransformer(func=&lt;function JoinIn2018 at 0x000001B7477B62A0&gt;)</pre></div></div></div><div class=\"sk-item\"><div class=\"sk-estimator sk-toggleable\"><input class=\"sk-toggleable__control sk-hidden--visually\" id=\"sk-estimator-id-98\" type=\"checkbox\" ><label for=\"sk-estimator-id-98\" class=\"sk-toggleable__label sk-toggleable__label-arrow\">FunctionTransformer</label><div class=\"sk-toggleable__content\"><pre>FunctionTransformer(func=&lt;function BiningAge at 0x000001B7477B65C0&gt;)</pre></div></div></div></div></div><div class=\"sk-item sk-dashed-wrapped\"><div class=\"sk-label-container\"><div class=\"sk-label sk-toggleable\"><input class=\"sk-toggleable__control sk-hidden--visually\" id=\"sk-estimator-id-99\" type=\"checkbox\" ><label for=\"sk-estimator-id-99\" class=\"sk-toggleable__label sk-toggleable__label-arrow\">s3: ColumnTransformer</label><div class=\"sk-toggleable__content\"><pre>ColumnTransformer(remainder=&#x27;passthrough&#x27;,\n",
       "                  transformers=[(&#x27;enc_edu&#x27;,\n",
       "                                 FunctionTransformer(func=&lt;function EncodeEducation at 0x000001B7477B6200&gt;),\n",
       "                                 [&#x27;Education&#x27;]),\n",
       "                                (&#x27;oe&#x27;, OrdinalEncoder(),\n",
       "                                 [&#x27;Gender&#x27;, &#x27;EverBenched&#x27;]),\n",
       "                                (&#x27;ohe&#x27;, OneHotEncoder(), [&#x27;City&#x27;])])</pre></div></div></div><div class=\"sk-parallel\"><div class=\"sk-parallel-item\"><div class=\"sk-item\"><div class=\"sk-label-container\"><div class=\"sk-label sk-toggleable\"><input class=\"sk-toggleable__control sk-hidden--visually\" id=\"sk-estimator-id-100\" type=\"checkbox\" ><label for=\"sk-estimator-id-100\" class=\"sk-toggleable__label sk-toggleable__label-arrow\">enc_edu</label><div class=\"sk-toggleable__content\"><pre>[&#x27;Education&#x27;]</pre></div></div></div><div class=\"sk-serial\"><div class=\"sk-item\"><div class=\"sk-estimator sk-toggleable\"><input class=\"sk-toggleable__control sk-hidden--visually\" id=\"sk-estimator-id-101\" type=\"checkbox\" ><label for=\"sk-estimator-id-101\" class=\"sk-toggleable__label sk-toggleable__label-arrow\">FunctionTransformer</label><div class=\"sk-toggleable__content\"><pre>FunctionTransformer(func=&lt;function EncodeEducation at 0x000001B7477B6200&gt;)</pre></div></div></div></div></div></div><div class=\"sk-parallel-item\"><div class=\"sk-item\"><div class=\"sk-label-container\"><div class=\"sk-label sk-toggleable\"><input class=\"sk-toggleable__control sk-hidden--visually\" id=\"sk-estimator-id-102\" type=\"checkbox\" ><label for=\"sk-estimator-id-102\" class=\"sk-toggleable__label sk-toggleable__label-arrow\">oe</label><div class=\"sk-toggleable__content\"><pre>[&#x27;Gender&#x27;, &#x27;EverBenched&#x27;]</pre></div></div></div><div class=\"sk-serial\"><div class=\"sk-item\"><div class=\"sk-estimator sk-toggleable\"><input class=\"sk-toggleable__control sk-hidden--visually\" id=\"sk-estimator-id-103\" type=\"checkbox\" ><label for=\"sk-estimator-id-103\" class=\"sk-toggleable__label sk-toggleable__label-arrow\">OrdinalEncoder</label><div class=\"sk-toggleable__content\"><pre>OrdinalEncoder()</pre></div></div></div></div></div></div><div class=\"sk-parallel-item\"><div class=\"sk-item\"><div class=\"sk-label-container\"><div class=\"sk-label sk-toggleable\"><input class=\"sk-toggleable__control sk-hidden--visually\" id=\"sk-estimator-id-104\" type=\"checkbox\" ><label for=\"sk-estimator-id-104\" class=\"sk-toggleable__label sk-toggleable__label-arrow\">ohe</label><div class=\"sk-toggleable__content\"><pre>[&#x27;City&#x27;]</pre></div></div></div><div class=\"sk-serial\"><div class=\"sk-item\"><div class=\"sk-estimator sk-toggleable\"><input class=\"sk-toggleable__control sk-hidden--visually\" id=\"sk-estimator-id-105\" type=\"checkbox\" ><label for=\"sk-estimator-id-105\" class=\"sk-toggleable__label sk-toggleable__label-arrow\">OneHotEncoder</label><div class=\"sk-toggleable__content\"><pre>OneHotEncoder()</pre></div></div></div></div></div></div><div class=\"sk-parallel-item\"><div class=\"sk-item\"><div class=\"sk-label-container\"><div class=\"sk-label sk-toggleable\"><input class=\"sk-toggleable__control sk-hidden--visually\" id=\"sk-estimator-id-106\" type=\"checkbox\" ><label for=\"sk-estimator-id-106\" class=\"sk-toggleable__label sk-toggleable__label-arrow\">remainder</label><div class=\"sk-toggleable__content\"><pre>[&#x27;JoiningYear&#x27;, &#x27;JoinIn2018&#x27;, &#x27;Age&#x27;, &#x27;BiningAge&#x27;, &#x27;ExperienceInCurrentDomain&#x27;, &#x27;PaymentTier&#x27;]</pre></div></div></div><div class=\"sk-serial\"><div class=\"sk-item\"><div class=\"sk-estimator sk-toggleable\"><input class=\"sk-toggleable__control sk-hidden--visually\" id=\"sk-estimator-id-107\" type=\"checkbox\" ><label for=\"sk-estimator-id-107\" class=\"sk-toggleable__label sk-toggleable__label-arrow\">passthrough</label><div class=\"sk-toggleable__content\"><pre>passthrough</pre></div></div></div></div></div></div></div></div><div class=\"sk-item\"><div class=\"sk-estimator sk-toggleable\"><input class=\"sk-toggleable__control sk-hidden--visually\" id=\"sk-estimator-id-108\" type=\"checkbox\" ><label for=\"sk-estimator-id-108\" class=\"sk-toggleable__label sk-toggleable__label-arrow\">FunctionTransformer</label><div class=\"sk-toggleable__content\"><pre>FunctionTransformer(func=&lt;function scaling at 0x000001B7477B7CE0&gt;,\n",
       "                    kw_args={&#x27;scale&#x27;: StandardScaler()})</pre></div></div></div><div class=\"sk-item\"><div class=\"sk-estimator sk-toggleable\"><input class=\"sk-toggleable__control sk-hidden--visually\" id=\"sk-estimator-id-109\" type=\"checkbox\" ><label for=\"sk-estimator-id-109\" class=\"sk-toggleable__label sk-toggleable__label-arrow\">KNeighborsClassifier</label><div class=\"sk-toggleable__content\"><pre>KNeighborsClassifier(algorithm=&#x27;ball_tree&#x27;, n_neighbors=11)</pre></div></div></div></div></div></div></div>"
      ],
      "text/plain": [
       "Pipeline(steps=[('s1',\n",
       "                 Pipeline(steps=[('imp',\n",
       "                                  ColumnTransformer(transformers=[('imp_mean',\n",
       "                                                                   SimpleImputer(),\n",
       "                                                                   ['JoiningYear',\n",
       "                                                                    'Age',\n",
       "                                                                    'ExperienceInCurrentDomain']),\n",
       "                                                                  ('imp_mode',\n",
       "                                                                   SimpleImputer(strategy='most_frequent'),\n",
       "                                                                   ['Education',\n",
       "                                                                    'City',\n",
       "                                                                    'PaymentTier',\n",
       "                                                                    'Gender',\n",
       "                                                                    'EverBenched'])])),\n",
       "                                 ('to_df',\n",
       "                                  FunctionTransformer(func=<function ToDataFrame at 0x000001B7477B60C0>))]))...\n",
       "                                   transformers=[('enc_edu',\n",
       "                                                  FunctionTransformer(func=<function EncodeEducation at 0x000001B7477B6200>),\n",
       "                                                  ['Education']),\n",
       "                                                 ('oe', OrdinalEncoder(),\n",
       "                                                  ['Gender', 'EverBenched']),\n",
       "                                                 ('ohe', OneHotEncoder(),\n",
       "                                                  ['City'])])),\n",
       "                ('scl',\n",
       "                 FunctionTransformer(func=<function scaling at 0x000001B7477B7CE0>,\n",
       "                                     kw_args={'scale': StandardScaler()})),\n",
       "                ('algo',\n",
       "                 KNeighborsClassifier(algorithm='ball_tree', n_neighbors=11))])"
      ]
     },
     "execution_count": 33,
     "metadata": {},
     "output_type": "execute_result"
    }
   ],
   "source": [
    "# best estimator\n",
    "model.best_estimator_"
   ]
  },
  {
   "cell_type": "code",
   "execution_count": 34,
   "id": "fb5f817f",
   "metadata": {},
   "outputs": [
    {
     "name": "stdout",
     "output_type": "stream",
     "text": [
      "0.8049661399548532\n",
      "0.8256013745704467\n"
     ]
    }
   ],
   "source": [
    "# check model score\n",
    "print(model.score(X_train, y_train))\n",
    "print(model.score(X_test, y_test))"
   ]
  },
  {
   "cell_type": "markdown",
   "id": "8dba087f",
   "metadata": {},
   "source": [
    "# Evaluasi Model"
   ]
  },
  {
   "cell_type": "code",
   "execution_count": 35,
   "id": "e3445786",
   "metadata": {},
   "outputs": [
    {
     "data": {
      "text/plain": [
       "array([0, 0, 0, 0, 0], dtype=int64)"
      ]
     },
     "execution_count": 35,
     "metadata": {},
     "output_type": "execute_result"
    }
   ],
   "source": [
    "# data prediction\n",
    "y_pred = model.predict(X_test)\n",
    "y_pred[:5]"
   ]
  },
  {
   "cell_type": "code",
   "execution_count": 36,
   "id": "6432ac92",
   "metadata": {},
   "outputs": [
    {
     "data": {
      "text/plain": [
       "<matplotlib.colorbar.Colorbar at 0x1b747783110>"
      ]
     },
     "execution_count": 36,
     "metadata": {},
     "output_type": "execute_result"
    },
    {
     "data": {
      "image/png": "[encoded data removed]",
      "text/plain": [
       "<Figure size 480x480 with 2 Axes>"
      ]
     },
     "metadata": {},
     "output_type": "display_data"
    }
   ],
   "source": [
    "# report\n",
    "from sklearn.metrics import confusion_matrix\n",
    "matrix = confusion_matrix(y_test, y_pred)\n",
    "tn, fp, fn, tp = matrix.ravel()\n",
    "\n",
    "#visualization\n",
    "import matplotlib.pyplot as plt\n",
    "plt.matshow(matrix)\n",
    "\n",
    "for (i, j), value in np.ndenumerate(matrix):\n",
    "    plt.text(j, i, f'{value}', ha='center', va='center', color='white')\n",
    "\n",
    "plt.colorbar()"
   ]
  },
  {
   "cell_type": "markdown",
   "id": "8db55b75",
   "metadata": {},
   "source": [
    "# Save Model & Pipeline"
   ]
  },
  {
   "cell_type": "code",
   "execution_count": 37,
   "id": "a8ea0cd4",
   "metadata": {},
   "outputs": [],
   "source": [
    "# save model \n",
    "import pickle\n",
    "pickle.dump(model.best_estimator_, open('model/knn2.pkl', 'wb'))"
   ]
  },
  {
   "cell_type": "code",
   "execution_count": 40,
   "id": "b5e98399",
   "metadata": {},
   "outputs": [],
   "source": [
    "pickle.dump((tn,fp,fn,tp), open('eval/eval_knn2.pkl','wb'))"
   ]
  },
  {
   "cell_type": "code",
   "execution_count": 38,
   "id": "4794332c",
   "metadata": {},
   "outputs": [],
   "source": [
    "pickle.dump(my_pipeline, open('model/pipeline.pkl','wb'))"
   ]
  },
  {
   "cell_type": "code",
   "execution_count": null,
   "id": "22667b27",
   "metadata": {},
   "outputs": [],
   "source": []
  }
 ],
 "metadata": {
  "kernelspec": {
   "display_name": "Python [conda env:employee_project]",
   "language": "python",
   "name": "conda-env-employee_project-py"
  },
  "language_info": {
   "codemirror_mode": {
    "name": "ipython",
    "version": 3
   },
   "file_extension": ".py",
   "mimetype": "text/x-python",
   "name": "python",
   "nbconvert_exporter": "python",
   "pygments_lexer": "ipython3",
   "version": "3.11.4"
  }
 },
 "nbformat": 4,
 "nbformat_minor": 5
}
